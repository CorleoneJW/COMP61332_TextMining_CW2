{
 "cells": [
  {
   "cell_type": "markdown",
   "id": "c6756234",
   "metadata": {},
   "source": [
    "# TextMining CW2\n",
    "### Jie Wang &emsp; Rong Jian Yee &emsp; Hao Cao &emsp; Zhiyuan Zhao\n",
    "\n",
    "### Main Tasks\n",
    "1. What is the domiant sentiment towards large language models such as OpenAI's ChatGPT and others?\n",
    "2. What are the pros and cons of these large language models that people have been discussing?\n",
    "3. What field will large language models be most beneficial and useful in the future?"
   ]
  },
  {
   "cell_type": "markdown",
   "id": "c31f410f",
   "metadata": {},
   "source": [
    "---"
   ]
  },
  {
   "cell_type": "markdown",
   "id": "ff26aa5a",
   "metadata": {},
   "source": [
    "# Data generating"
   ]
  },
  {
   "cell_type": "markdown",
   "id": "52b94e63",
   "metadata": {},
   "source": [
    "1. using the API search_tweets of version 4.0+ to acquire the data from twitter.\n",
    "2. convert all tweets from list to dataframe.\n",
    "3. store the data in csv file."
   ]
  },
  {
   "cell_type": "code",
   "execution_count": 3,
   "id": "f357862e",
   "metadata": {
    "scrolled": false
   },
   "outputs": [
    {
     "name": "stderr",
     "output_type": "stream",
     "text": [
      "Rate limit reached. Sleeping for: 603\n"
     ]
    },
    {
     "name": "stdout",
     "output_type": "stream",
     "text": [
      "Finish data generation.\n"
     ]
    }
   ],
   "source": [
    "import tweepy\n",
    "import pandas as pd\n",
    "import time\n",
    "\n",
    "auth = tweepy.OAuthHandler('BcWEliOxF0h6v9VWpUlNtS5nU', 'HfW6WHnnPqB5BkodYKgMTAihGbmEjioJpP3DhAekLLtVeb6xIi')\n",
    "auth.set_access_token('841021709209731073-rRR8mlOkIw7pLGEnplp03nWwnYOGwJ3', 'Aa2c8dlmUOKzsRRRc0v6gELtKbJFAkcNwNzOe9T6uuCUQ')\n",
    "\n",
    "api = tweepy.API(auth, wait_on_rate_limit=True) #\n",
    "\n",
    "# Collect tweets\n",
    "query = \"#chatgpt\" + \" -filter:retweets\"\n",
    "# cutoff_date = \"2023-03-05\"\n",
    "tweets = tweepy.Cursor(api.search_tweets, q=query, lang=\"en\", count=100).items(2000)\n",
    "\n",
    "tweets_list = [[tweet.created_at, tweet.user.screen_name, tweet.user.location, tweet.text] for tweet in tweets]\n",
    "\n",
    "tweets_df = pd.DataFrame(data=tweets_list, columns=['date', 'user', 'location', 'text'])\n",
    "\n",
    "# A good idea to save downloaded tweets as CSV\n",
    "tweets_df.to_csv ('./resources/chatgpt.csv', quotechar='\"', encoding='utf8', index = False, header=True)\n",
    "print(\"Finish data generation.\")"
   ]
  },
  {
   "cell_type": "markdown",
   "id": "6fe646b1",
   "metadata": {},
   "source": [
    "---"
   ]
  },
  {
   "cell_type": "markdown",
   "id": "5eb760ea",
   "metadata": {},
   "source": [
    "# Data cleaning"
   ]
  },
  {
   "cell_type": "markdown",
   "id": "08ff02d6",
   "metadata": {},
   "source": [
    "1. Mainly using the regular expression to do the data cleaning.\n",
    "2. utilising the set to remove the duplicate tweets."
   ]
  },
  {
   "cell_type": "code",
   "execution_count": 6,
   "id": "f61d10b9",
   "metadata": {
    "scrolled": true
   },
   "outputs": [
    {
     "name": "stdout",
     "output_type": "stream",
     "text": [
      "0     #weatherupdate #islamabad #isb #pakistan #tempupdate #sunrise #sunset #hourlyupdatesunrise: 06:24 am sunset: 06:11… \n",
      "1    we use #ai in our lives all the time  but with tools like #chatgpt trending  there's new dialogue around what it me… \n",
      "2          for #chatgpt the limits of its language (model) are the limits of its world  - wittgenstein was right (again)  \n",
      "3    respecting the rule of law  and promoting unity and dialogue  rather than promoting or advocating for violence or c… \n",
      "4                      how to use chatgpt to unlock new levels of innovation#entrepreneurship #chatgpt #innovation #levels\n",
      "Name: text_processed, dtype: object\n"
     ]
    }
   ],
   "source": [
    "# Load the regular expression library\n",
    "import re\n",
    "import pandas as pd\n",
    "\n",
    "# Make sure that line below is uncommented, if you are loading data from a provided/previously saved CSV\n",
    "tweets_df = pd.read_csv('./resources/chatgpt.csv', quotechar='\"', encoding='utf8')\n",
    "\n",
    "# Remind the type of 'text' column, convert to string before using the map\n",
    "tweets_df['text'] = tweets_df['text'].values.astype(str)\n",
    "\n",
    "# Remove punctuation\n",
    "tweets_df['text_processed'] = tweets_df['text'].map(lambda x: re.sub('[,\\\\.!?]', ' ', x))\n",
    "\n",
    "# Remove unnecessary line breaks\n",
    "tweets_df['text_processed'] = tweets_df['text_processed'].map(lambda x: re.sub(r\"\\n\", '', x))\n",
    "\n",
    "# Convert the titles to lowercase\n",
    "tweets_df['text_processed'] = tweets_df['text_processed'].map(lambda x: x.lower())\n",
    "\n",
    "# Strip the https\n",
    "tweets_df['text_processed'] = tweets_df['text_processed'].map(lambda x: re.sub(r'https://t [a-zA-Z+]*','',x))\n",
    "\n",
    "#Strip the senseless pattern\n",
    "tweets_df['text_processed'] = tweets_df['text_processed'].map(lambda x: re.sub(r'/[A-Za-z0-9]*','',x))\n",
    "\n",
    "# pattern of emoji\n",
    "emoji_pattern = re.compile(\"[\"\n",
    "        u\"\\U0001F600-\\U0001F64F\"  # emoticons\n",
    "        u\"\\U0001F300-\\U0001F5FF\"  # symbols & pictographs\n",
    "        u\"\\U0001F680-\\U0001F6FF\"  # transport & map symbols\n",
    "        u\"\\U0001F1E0-\\U0001F1FF\"  # flags (iOS)\n",
    "        u\"\\U00002500-\\U00002BEF\"  # chinese char\n",
    "        u\"\\U00002702-\\U000027B0\"\n",
    "        u\"\\U00002702-\\U000027B0\"\n",
    "        u\"\\U000024C2-\\U0001F251\"\n",
    "        u\"\\U0001f926-\\U0001f937\"\n",
    "        u\"\\U00010000-\\U0010ffff\"\n",
    "        u\"\\u2640-\\u2642\" \n",
    "        u\"\\u2600-\\u2B55\"\n",
    "        u\"\\u200d\"\n",
    "        u\"\\u23cf\"\n",
    "        u\"\\u23e9\"\n",
    "        u\"\\u231a\"\n",
    "        u\"\\ufe0f\"  # dingbats\n",
    "        u\"\\u3030\"\n",
    "                           \"]+\", flags=re.UNICODE)\n",
    "\n",
    "# Strip the emoji\n",
    "tweets_df['text_processed'] = tweets_df['text_processed'].map(lambda x: emoji_pattern.sub(r'',x))\n",
    "\n",
    "# Think of how else your data can be cleaned\n",
    "\n",
    "# Set the option to display full details of processed string\n",
    "pd.set_option('display.max_colwidth', None)\n",
    "\n",
    "# Print out the first rows \n",
    "print(tweets_df['text_processed'].head())\n",
    "\n",
    "# Removing duplicate tweets?\n",
    "unique_tweets = list(set(list(tweets_df['text_processed'].values)))\n",
    "unique_tweets = [t for t in unique_tweets if t]\n",
    "\n",
    "# print(unique_tweets)"
   ]
  },
  {
   "cell_type": "markdown",
   "id": "4fd86c79",
   "metadata": {},
   "source": [
    "---"
   ]
  },
  {
   "cell_type": "markdown",
   "id": "0125d412",
   "metadata": {},
   "source": [
    "# Using word cloud"
   ]
  },
  {
   "cell_type": "markdown",
   "id": "bc269f30",
   "metadata": {},
   "source": [
    "1. try to generate the word cloud of previous tweets."
   ]
  },
  {
   "cell_type": "code",
   "execution_count": 7,
   "id": "827f32f6",
   "metadata": {},
   "outputs": [
    {
     "data": {
      "image/png": "[encoded data removed]",
      "text/plain": [
       "<PIL.Image.Image image mode=RGB size=400x200 at 0x7F9E30F36F60>"
      ]
     },
     "execution_count": 7,
     "metadata": {},
     "output_type": "execute_result"
    }
   ],
   "source": [
    "from wordcloud import WordCloud\n",
    "\n",
    "# join the words of the different tweets together into one string\n",
    "long_string = ' '.join(unique_tweets)\n",
    "new_long_string = ' '.join(set(long_string.split(\" \")))\n",
    "\n",
    "# create a WordCloud object\n",
    "wordcloud = WordCloud(background_color=\"white\", max_words=1000, contour_width=3, contour_color='steelblue')\n",
    "\n",
    "# generate a word cloud\n",
    "wordcloud.generate(new_long_string)\n",
    "\n",
    "# visualize the word cloud\n",
    "wordcloud.to_image()"
   ]
  },
  {
   "cell_type": "markdown",
   "id": "582f5ee0",
   "metadata": {},
   "source": [
    "---"
   ]
  },
  {
   "cell_type": "markdown",
   "id": "6ea22add",
   "metadata": {},
   "source": [
    "# Topic Modelling"
   ]
  },
  {
   "cell_type": "markdown",
   "id": "077fccbd",
   "metadata": {},
   "source": [
    "1. download the nltk stopwords.\n",
    "2. use the gensim to do simple preprocess of sentences.\n",
    "3. remove the stopwords in sentences."
   ]
  },
  {
   "cell_type": "code",
   "execution_count": 8,
   "id": "27189a34",
   "metadata": {},
   "outputs": [
    {
     "name": "stderr",
     "output_type": "stream",
     "text": [
      "/Users/jiewang/opt/anaconda3/envs/dataEngineering/lib/python3.6/site-packages/scipy/sparse/sparsetools.py:21: DeprecationWarning: `scipy.sparse.sparsetools` is deprecated!\n",
      "scipy.sparse.sparsetools is a private module for scipy.sparse, and should not be used.\n",
      "  _deprecated()\n",
      "[nltk_data] Downloading package stopwords to\n",
      "[nltk_data]     /Users/jiewang/nltk_data...\n",
      "[nltk_data]   Package stopwords is already up-to-date!\n"
     ]
    }
   ],
   "source": [
    "import gensim\n",
    "import gensim.corpora as corpora\n",
    "from gensim.utils import simple_preprocess\n",
    "\n",
    "import nltk\n",
    "nltk.download('stopwords')\n",
    "from nltk.corpus import stopwords\n",
    "\n",
    "stop_words = stopwords.words('english')\n",
    "\n",
    "# Do you want to modify this by adding more stop words?\n",
    "stop_words.extend(['from', 'subject', 're', 'edu', 'use'])\n",
    "\n",
    "def sent_to_words(sentences):\n",
    "  for sentence in sentences:\n",
    "    yield(gensim.utils.simple_preprocess(str(sentence), deacc=True))\n",
    "\n",
    "def remove_stopwords(texts):\n",
    "  return [[word for word in simple_preprocess(str(doc)) \n",
    "    if word not in stop_words] for doc in texts]\n",
    "\n",
    "\n",
    "data = tweets_df.text_processed.values.tolist()\n",
    "\n",
    "data_words = list(sent_to_words(data))\n",
    "\n",
    "# remove stop words\n",
    "data_words = remove_stopwords(data_words)\n",
    "\n",
    "# create a dictionary\n",
    "id2word = corpora.Dictionary(data_words)\n",
    "\n",
    "# create a corpus\n",
    "texts = data_words\n",
    "\n",
    "# convert the corpus into a BoW representation\n",
    "corpus = [id2word.doc2bow(text) for text in texts]\n"
   ]
  },
  {
   "cell_type": "code",
   "execution_count": 9,
   "id": "f1ae66e5",
   "metadata": {},
   "outputs": [
    {
     "name": "stdout",
     "output_type": "stream",
     "text": [
      "[(0,\n",
      "  '0.068*\"chatgpt\" + 0.014*\"openai\" + 0.013*\"ai\" + 0.009*\"gpt\" + 0.008*\"data\" '\n",
      "  '+ 0.007*\"new\" + 0.007*\"amp\" + 0.006*\"marketing\" + 0.005*\"strategy\" + '\n",
      "  '0.005*\"corporate\"'),\n",
      " (1,\n",
      "  '0.069*\"chatgpt\" + 0.019*\"ai\" + 0.007*\"like\" + 0.006*\"gpt\" + 0.006*\"chatbot\" '\n",
      "  '+ 0.005*\"get\" + 0.005*\"microsoft\" + 0.003*\"one\" + 0.003*\"chatgptprompts\" + '\n",
      "  '0.003*\"new\"'),\n",
      " (2,\n",
      "  '0.072*\"chatgpt\" + 0.028*\"ai\" + 0.008*\"openai\" + 0.006*\"like\" + 0.005*\"new\" '\n",
      "  '+ 0.004*\"chatbot\" + 0.004*\"week\" + 0.004*\"next\" + 0.004*\"gpt\" + '\n",
      "  '0.004*\"amp\"'),\n",
      " (3,\n",
      "  '0.050*\"ai\" + 0.048*\"chatgpt\" + 0.007*\"using\" + 0.006*\"like\" + '\n",
      "  '0.006*\"openai\" + 0.004*\"amp\" + 0.004*\"tools\" + 0.004*\"via\" + 0.004*\"one\" + '\n",
      "  '0.004*\"microsoft\"'),\n",
      " (4,\n",
      "  '0.059*\"chatgpt\" + 0.015*\"ai\" + 0.008*\"new\" + 0.005*\"microsoft\" + '\n",
      "  '0.005*\"gpt\" + 0.004*\"good\" + 0.004*\"first\" + 0.003*\"like\" + 0.003*\"bing\" + '\n",
      "  '0.003*\"world\"')]\n"
     ]
    }
   ],
   "source": [
    "from pprint import pprint\n",
    "\n",
    "# set number of topics\n",
    "num_topics = 5\n",
    "\n",
    "# build an LDA model\n",
    "lda_model = gensim.models.LdaMulticore(corpus=corpus, id2word=id2word, num_topics=num_topics)\n",
    "\n",
    "# print keywords in each topic\n",
    "pprint(lda_model.print_topics())\n",
    "doc_lda = lda_model[corpus]"
   ]
  },
  {
   "cell_type": "markdown",
   "id": "fe3b7735",
   "metadata": {},
   "source": [
    "# visualise the topics"
   ]
  },
  {
   "cell_type": "markdown",
   "id": "768309b4",
   "metadata": {},
   "source": [
    "1. set the data filepath.\n",
    "2. save the data at the resources folder.\n",
    "3. load the data file and generate the LDAvis."
   ]
  },
  {
   "cell_type": "code",
   "execution_count": 10,
   "id": "09e4f2d7",
   "metadata": {},
   "outputs": [
    {
     "data": {
      "text/html": [
       "\n",
       "<link rel=\"stylesheet\" type=\"text/css\" href=\"https://cdn.jsdelivr.net/gh/bmabey/pyLDAvis@3.2.2/pyLDAvis/js/ldavis.v1.0.0.css\">\n",
       "\n",
       "\n",
       "<div id=\"ldavis_el17561403165822520002568165150\"></div>\n",
       "<script type=\"text/javascript\">\n",
       "\n",
       "var ldavis_el17561403165822520002568165150_data = {\"mdsDat\": {\"x\": [0.01968003654229222, 0.08245602543819475, 0.027418990607538895, -0.04361142189864384, -0.08594363068938218], \"y\": [-0.041284973310533074, 0.06962072976670829, -0.05149644544447092, -0.03604027925703327, 0.05920096824532892], \"topics\": [1, 2, 3, 4, 5], \"cluster\": [1, 1, 1, 1, 1], \"Freq\": [22.297866652573354, 22.118414646180444, 21.176328376412297, 19.249478537805324, 15.15791178702858]}, \"tinfo\": {\"Term\": [\"ai\", \"strategy\", \"readiness\", \"incorporated\", \"highlights\", \"openai\", \"data\", \"corporate\", \"using\", \"marketing\", \"first\", \"generative\", \"new\", \"sunset\", \"chatgpt\", \"tune\", \"morpheus\", \"lair\", \"desk\", \"billy\", \"lil\", \"chatbotai\", \"project\", \"email\", \"aichatbot\", \"interesting\", \"chatgptprompts\", \"good\", \"get\", \"person\", \"korean\", \"planned\", \"thnx\", \"kenkorea\", \"worldunivandsch\", \"mitocw\", \"korea\", \"wiki\", \"braun\", \"cto\", \"epaz\", \"ainewsdrop\", \"panelists\", \"andreas\", \"sea\", \"per\", \"stock\", \"utility\", \"receives\", \"broadly\", \"coffee\", \"nowadays\", \"po\", \"bottom\", \"codes\", \"busy\", \"capture\", \"presen\", \"among\", \"bones\", \"hey\", \"correct\", \"banking\", \"site\", \"recent\", \"generating\", \"techniques\", \"creation\", \"performance\", \"experience\", \"stockstobuy\", \"automation\", \"centric\", \"today\", \"chatgpt\", \"still\", \"moon\", \"ai\", \"even\", \"week\", \"discussion\", \"generativeai\", \"tech\", \"openai\", \"next\", \"like\", \"say\", \"people\", \"chatbot\", \"bing\", \"news\", \"new\", \"world\", \"potential\", \"amp\", \"microsoft\", \"chatgptprompts\", \"email\", \"aichatbot\", \"chatbotai\", \"prompts\", \"gpt\", \"make\", \"marketing\", \"good\", \"chat\", \"tools\", \"asked\", \"strategy\", \"readiness\", \"incorporated\", \"highlights\", \"tune\", \"morpheus\", \"lair\", \"desk\", \"billy\", \"lil\", \"resources\", \"corporate\", \"posting\", \"chatsonic\", \"number\", \"st\", \"communi\", \"openaichatgpt\", \"speech\", \"backstreet\", \"infinite\", \"design\", \"mins\", \"recommend\", \"stage\", \"organizations\", \"promp\", \"ride\", \"planning\", \"boys\", \"cryptogpt\", \"quite\", \"data\", \"chatgptjoin\", \"airdrop\", \"brilliant\", \"interesting\", \"seo\", \"openai\", \"excited\", \"marketing\", \"chatgpt\", \"early\", \"gpt\", \"amp\", \"azure\", \"new\", \"write\", \"aichatbot\", \"chatbotai\", \"email\", \"ai\", \"chatgptprompts\", \"chatbot\", \"help\", \"asked\", \"news\", \"available\", \"google\", \"us\", \"microsoft\", \"laws\", \"like\", \"mejhool_app\", \"battery\", \"intensive\", \"caution\", \"personalized\", \"mario\", \"ghostwriter\", \"decision\", \"documents\", \"iphone\", \"originally\", \"coinbase\", \"midjourneyv\", \"developed\", \"generation\", \"scp\", \"jin\", \"huang\", \"roh\", \"printer\", \"jensen\", \"raise\", \"sport\", \"malaysia\", \"china\", \"differences\", \"btcusdt\", \"sentience\", \"pie\", \"finger\", \"due\", \"university\", \"friend\", \"years\", \"less\", \"fiction\", \"oldest\", \"southpark\", \"demo\", \"old\", \"third\", \"fuss\", \"teaching\", \"internet\", \"get\", \"chatgpt\", \"buy\", \"ask\", \"chatbot\", \"like\", \"real\", \"large\", \"game\", \"day\", \"built\", \"ai\", \"make\", \"one\", \"video\", \"coming\", \"gpt\", \"microsoft\", \"midjourney\", \"google\", \"language\", \"chatgptprompts\", \"know\", \"chatbotai\", \"email\", \"aichatbot\", \"laws\", \"app\", \"chat\", \"models\", \"week\", \"next\", \"marketing\", \"new\", \"openai\", \"take\", \"amp\", \"world\", \"weight\", \"instagram\", \"bayc\", \"bnb\", \"apecoin\", \"emphasis\", \"actions\", \"metalearning\", \"carry\", \"lay\", \"deeds\", \"imp\", \"happyfriday\", \"adelahafez\", \"sonu_monikadear\", \"deal\", \"implementing\", \"archimedesinte\", \"prometheus\", \"reasons\", \"essay\", \"drawbacks\", \"powershell\", \"befirst\", \"catsarefamily\", \"typergpt\", \"pets\", \"worked\", \"ne\", \"operations\", \"using\", \"devops\", \"ai\", \"reading\", \"tweet\", \"key\", \"aiape\", \"everything\", \"generative\", \"tools\", \"best\", \"via\", \"chatgpt\", \"one\", \"know\", \"aiape_coin\", \"content\", \"like\", \"chat\", \"learning\", \"model\", \"openai\", \"us\", \"amp\", \"research\", \"think\", \"need\", \"project\", \"intelligence\", \"may\", \"future\", \"microsoft\", \"new\", \"world\", \"gpt\", \"chatbot\", \"language\", \"artificial\", \"average\", \"connor\", \"especially\", \"kruger\", \"dunning\", \"effecta\", \"lifetime\", \"seem\", \"kids\", \"br\", \"spend\", \"format\", \"vtuber\", \"finra\", \"pamelarutledge\", \"ugc\", \"chain\", \"metamask\", \"hu\", \"five\", \"spotify\", \"daboe\", \"walks\", \"bloomz\", \"body\", \"medicine\", \"excel\", \"collaboration\", \"misinformation\", \"author\", \"person\", \"books\", \"legal\", \"towards\", \"yes\", \"source\", \"support\", \"face\", \"months\", \"first\", \"looks\", \"sunset\", \"chatgpt\", \"makes\", \"windows\", \"context\", \"new\", \"start\", \"good\", \"artificial\", \"times\", \"intelligence\", \"ai\", \"bing\", \"technology\", \"business\", \"microsoft\", \"take\", \"risk\", \"great\", \"world\", \"gpt\", \"work\", \"project\", \"prompt\", \"next\", \"like\", \"human\", \"using\", \"amp\", \"time\", \"tools\", \"write\", \"week\"], \"Freq\": [476.0, 23.0, 21.0, 21.0, 22.0, 129.0, 46.0, 24.0, 45.0, 49.0, 24.0, 25.0, 102.0, 11.0, 1224.0, 8.0, 8.0, 8.0, 8.0, 8.0, 8.0, 44.0, 32.0, 45.0, 44.0, 24.0, 45.0, 34.0, 46.0, 8.0, 4.003300387904284, 4.002814169875599, 4.002644553151526, 4.002104863574929, 4.00189396184177, 4.001163764331683, 4.000893919543385, 3.9961909103758986, 4.38718232985221, 4.328445699757801, 2.4639311246286546, 2.4543512615867504, 2.4513633212304216, 3.632023306380818, 2.3865938570072074, 4.661486396541569, 4.002735081725664, 1.6950197164441303, 1.6948017266220625, 1.6946869493227081, 1.6945376020458665, 1.6943121510775783, 1.6943095396764012, 1.6942535810797497, 1.6940847104702983, 1.694206575858562, 1.6939986585838915, 1.6940546171805433, 1.693977767374475, 1.6938694564018446, 5.54375300961109, 2.2574919030244103, 2.2564125238712167, 3.232515734608733, 6.161516020256402, 3.2247670855541477, 3.696684583983839, 3.177880247886712, 2.695732771874461, 6.247401274397495, 7.034059764981464, 3.6115489263330045, 4.003556056514764, 14.950585106931655, 308.889161453497, 7.468772506488841, 4.774168108627753, 119.50996608087513, 6.103984613981434, 16.55095719911365, 4.712023226939943, 10.438591230878156, 9.951066009375236, 32.41849926976092, 16.371378352607117, 25.209169718919984, 10.444920272511904, 8.713374266041754, 18.88095577499166, 11.742893103207383, 12.050485322463183, 20.652864592874273, 11.906672226477953, 8.130184217342007, 16.241915527852136, 16.099793625010157, 12.002518110823058, 11.871276548809172, 11.755750150374087, 11.620111486187746, 7.224414993678754, 16.346890870712315, 8.980941912513739, 10.479652405576834, 9.252083945434963, 9.622824321840321, 9.214358400506477, 8.154432445148014, 22.854622346866403, 20.462452838373437, 20.440012705219548, 21.229552113095238, 7.480087804411575, 7.476908785548107, 7.474617898603659, 7.4746030964050085, 7.473965615049802, 7.473241787535801, 4.221546102321943, 21.258594026847167, 3.4125006037681738, 3.4103002569388035, 5.393178117804718, 3.3759793857415477, 3.931160763156231, 5.885931469114983, 2.6007485231911933, 2.599554232463423, 2.5926317375612897, 3.162619260879267, 7.477064208633935, 2.418686413858462, 7.248638159282048, 4.224095040929528, 1.7882040315797987, 1.7882148865254754, 1.7881175620693497, 1.7879903865126123, 9.443224466344176, 3.5613305436143805, 33.51266720369539, 5.844039273308088, 8.648017790011904, 7.287513173597385, 15.480660385898169, 10.403156916949927, 61.27481838559516, 9.005997122610996, 24.816012349358267, 287.22824137163326, 9.736709632610578, 37.84945878404914, 29.37091926089071, 13.002958839537431, 31.45752994308483, 14.20777886461409, 16.682946274565893, 16.619450763235477, 16.660014708416817, 54.30869449634652, 15.656203606945299, 19.536973985346172, 13.25466430670668, 13.465966679253254, 13.115616399838537, 10.900882820193456, 12.368411280102768, 11.447371113044117, 15.251927931034219, 10.801258102397336, 11.750627704046215, 5.43096061224876, 3.926483759759908, 3.924165736983006, 3.169957558247447, 2.417005703452213, 2.41600588784037, 2.4157704009126575, 2.4157009594314665, 2.414763735630901, 2.4125600314828985, 2.4102958612832466, 4.177574944121791, 2.9576279473389837, 4.679137535816152, 7.575726893579207, 1.662437444655172, 1.6623169849429018, 1.6622678562759365, 1.6620235120164395, 1.6619364739694362, 1.6618350279960636, 1.661488529176651, 1.6613542520267968, 1.6613060681418887, 1.6610096427714982, 1.661092665494759, 1.6609189436940242, 1.6611123878201994, 1.6611114430381424, 1.6609727962712744, 5.486358380553242, 2.204691445252176, 4.334060141008315, 9.070916774643052, 4.680490936112835, 3.1721350446933676, 3.1707143286751216, 3.1697138044767357, 3.9295847706665668, 7.560110590958699, 3.9266349248890315, 3.924542232632729, 3.025908291381983, 5.867904835153137, 21.397318211831962, 279.5858017538305, 4.560325051062331, 6.734604906681043, 23.243582964201618, 26.465973800854126, 7.999279775607361, 8.209599598885026, 6.585713395577829, 8.622654535086586, 5.749997924000971, 75.73735765394034, 10.654893966688576, 13.876587554183004, 10.05778698274072, 10.700976656301854, 24.497125466150052, 20.32127569406438, 8.121457101657263, 11.64824254535124, 11.694366805375028, 12.944273785968043, 11.002800511366162, 11.92720172985357, 12.015586091287929, 11.50367293976787, 9.53959292010558, 7.84947088112678, 10.934923589261512, 8.461916874161409, 10.321731690792864, 10.86899480775844, 10.839093400435768, 12.831386501884833, 11.817627796444334, 8.72247264897502, 9.695151285794166, 8.987855315317953, 5.50568926961947, 3.21477365407881, 3.2140292756260282, 3.213295632368701, 3.2130053526836244, 3.21162888592251, 3.210842640207458, 3.210388756143662, 3.2100469475204063, 3.209466173446344, 3.2070413074971906, 2.446521844238817, 2.4455127358661395, 2.445658305116496, 2.4455563207596827, 2.4451623390865205, 2.445641558211588, 2.445631896535679, 2.4407160358333755, 4.742155792885427, 2.2842007507841724, 2.2686557583589377, 1.6839265162355002, 1.6836477232095592, 1.683716428460465, 1.683581272349699, 1.683537365400292, 1.683572362137472, 1.6835701077464267, 1.6835175052887021, 26.06483642318141, 3.211925177317041, 182.78764052985127, 3.977109512408003, 5.509587863200551, 3.9394813641182194, 5.0669383961512535, 6.368654273687708, 12.197025912934382, 15.043219083926248, 9.321836549613398, 14.717442830969198, 178.55956061226453, 13.687631848562447, 12.5155116799547, 8.632753800392052, 9.908047785469263, 21.78563464602701, 12.366315651166047, 7.874452228514479, 8.257550989933435, 21.23591878063662, 9.150136115890579, 15.886727190345809, 7.269741245036616, 8.593037012474735, 8.037855644374797, 9.350232429812728, 8.428338502634844, 6.218401901666379, 6.878281913398071, 13.452103377932588, 12.752666747399752, 8.518849941362388, 9.88207376536436, 8.523396511341073, 7.498265215336637, 6.911155228917362, 4.4645684829099945, 2.304927174023757, 2.304654129868506, 2.3044390758960724, 2.30422080963946, 2.3033994792950567, 2.3032321023825495, 2.3016792165831785, 2.274604394843076, 2.255166017935416, 2.230066074695308, 2.171988991136782, 3.7359666387115724, 1.5857986940056448, 1.5854803397367045, 1.5851892053494954, 1.5849677268087032, 1.5849219094922493, 1.5851094054477748, 1.5846409191603437, 1.5846512322832353, 1.5845474247839635, 1.5844907871418525, 1.5844160592677836, 1.5844133541863694, 1.5843621267070869, 1.5842737043583586, 1.5842551069236355, 1.5842515565042792, 1.5841496087484794, 5.751830841619091, 3.550701699082423, 3.747247166344193, 3.3193709136443936, 2.856131131616037, 4.45537932134577, 6.406561308151504, 2.802902061154621, 4.467080489138307, 10.324862945185412, 3.7451429511390795, 5.31773662115345, 170.701187057012, 4.176870901637601, 2.30386881092043, 2.3029345434269817, 24.48121943601022, 3.774586071657362, 10.779223297471475, 8.172194998049946, 4.468471239120411, 8.076550081945422, 44.40645419152676, 9.12691155444936, 8.478473783556858, 6.615485566100083, 14.401605934544714, 7.47041234539798, 4.5720112734676155, 7.428355768380203, 9.08002302575537, 13.69213476424308, 6.6212081658319395, 7.316332936853071, 5.517584316551671, 8.031114181970887, 9.696082324659947, 5.689225789908278, 7.179646525531468, 8.134950084597776, 5.9530192429932525, 6.190898016129664, 5.525431081464071, 5.63072434670289], \"Total\": [476.0, 23.0, 21.0, 21.0, 22.0, 129.0, 46.0, 24.0, 45.0, 49.0, 24.0, 25.0, 102.0, 11.0, 1224.0, 8.0, 8.0, 8.0, 8.0, 8.0, 8.0, 44.0, 32.0, 45.0, 44.0, 24.0, 45.0, 34.0, 46.0, 8.0, 4.6226858305084315, 4.622831456548996, 4.622655419264085, 4.622365473532359, 4.622621920317872, 4.6219781600629455, 4.62219294116297, 4.62048860185268, 5.381407117275614, 5.3813619747178745, 3.079758454893752, 3.0798068044467892, 3.078851372230093, 4.611301871911906, 3.083846033393068, 6.214039183582132, 5.435545438892974, 2.3091844291078476, 2.309060518839973, 2.309343620410865, 2.3092186596786184, 2.309060383035048, 2.309068398482911, 2.3091825622281754, 2.309010773867744, 2.3092055512636316, 2.308963284108579, 2.3090483172712686, 2.308972007301216, 2.3088379861924646, 7.653107130913271, 3.0915067160813336, 3.0914326934433687, 4.617252543324027, 9.282496124377884, 4.665123049918669, 5.448745881878876, 4.63341748590919, 3.880705621294249, 10.057681169433792, 11.535865716174948, 5.411053497136427, 6.151106635629849, 29.19268955799589, 1224.9639522482373, 13.13063688639681, 7.670377878663272, 476.75011295254, 10.72360515090369, 42.109553265256146, 7.728337705474088, 23.18657114724564, 21.70276981005253, 129.87797804827292, 49.10732552623869, 94.90748819450727, 26.181191441709252, 19.923873514555602, 72.81265423224554, 33.401658891956465, 35.75584698135659, 102.17566722125392, 40.90818037584499, 19.283204313831952, 79.3296633494806, 79.52670656258606, 45.242569330241736, 45.314149267769174, 44.55578139104095, 44.55559433666661, 16.268968523941666, 102.26768365051895, 26.66485933892094, 49.61894103395956, 34.22988702922159, 41.46035571699021, 38.195365018622354, 38.11220758687231, 23.54851978403748, 21.111426123256514, 21.104352584692023, 22.684810535439315, 8.091815672226353, 8.090871109200616, 8.090046504244562, 8.090284150279038, 8.089760830510096, 8.08944292840105, 4.8350353361190965, 24.981571914756717, 4.021882331423538, 4.0216535846839205, 6.411241888863544, 4.019627783253057, 4.817761424702491, 7.235041608353471, 3.2081531100944285, 3.2076526098346063, 3.2068206753999573, 4.007072059805163, 9.603237600745228, 3.1980169853036378, 9.611804276958875, 5.604473744602794, 2.3941997874887244, 2.3943123454347957, 2.3943731107090223, 2.3942746500120364, 12.78139555801565, 4.796406015509931, 46.22550077836968, 7.988428064608694, 11.917454085768238, 10.298262270953138, 24.506020292861784, 15.766609681913053, 129.87797804827292, 14.270361123762282, 49.61894103395956, 1224.9639522482373, 15.879123457183697, 102.26768365051895, 79.3296633494806, 26.698760033894562, 102.17566722125392, 32.57071638794839, 44.55578139104095, 44.55559433666661, 45.314149267769174, 476.75011295254, 45.242569330241736, 72.81265423224554, 34.9637510476976, 38.11220758687231, 35.75584698135659, 21.900124788624577, 33.4469485478423, 27.392883894675073, 79.52670656258606, 29.651603355226733, 94.90748819450727, 6.060291866455951, 4.54870227040576, 4.54799576041432, 3.7916138970866564, 3.0360248273043084, 3.0356694512540385, 3.035808677239342, 3.0360925015924356, 3.035510535972579, 3.0361057488992427, 3.035678520671929, 5.3436814207717065, 3.7961332808765773, 6.075547389877509, 9.868331852477922, 2.279569223944031, 2.2796209292438396, 2.279717476920195, 2.27954043098941, 2.279443461633165, 2.279474247511319, 2.279475047789909, 2.27931589829107, 2.2793978922425033, 2.279213094198758, 2.2793897671726513, 2.2791526697806557, 2.2794798389805826, 2.279486765136029, 2.2794595115087293, 7.608016698743347, 3.0401365304118824, 6.068973440706604, 13.587885911184621, 6.797099284420312, 4.513787176240264, 4.558928375955447, 4.570998928116978, 6.04644482218398, 12.900033683344496, 6.128046178551714, 6.136710079200775, 4.562515304084796, 9.865145432528132, 46.22479632746514, 1224.9639522482373, 7.60743283349886, 12.96015547432399, 72.81265423224554, 94.90748819450727, 17.017582243282835, 17.689837380367248, 12.933016109335718, 19.17644460417024, 10.7060341720654, 476.75011295254, 26.66485933892094, 40.554214196034046, 25.26968042660125, 28.188692637823962, 102.26768365051895, 79.52670656258606, 18.642810008052436, 33.4469485478423, 35.650633154627734, 45.242569330241736, 36.5495634974006, 44.55559433666661, 45.314149267769174, 44.55578139104095, 29.651603355226733, 19.14377226821769, 41.46035571699021, 23.0934094560279, 42.109553265256146, 49.10732552623869, 49.61894103395956, 102.17566722125392, 129.87797804827292, 26.567139580900502, 79.3296633494806, 40.90818037584499, 6.1299769717267445, 3.8317741451266993, 3.831646907088025, 3.8315005554127, 3.8313636277669176, 3.8314208154167697, 3.8312280293177525, 3.8312580884106278, 3.8312733008112003, 3.8311055811935635, 3.8301694743786014, 3.065501731489323, 3.064875869770071, 3.0650860558279645, 3.0649889186761774, 3.064544263645915, 3.0651843233884817, 3.0652059065527437, 3.065159536288221, 6.120173309892847, 3.055837822047437, 3.0762434038167736, 2.299313397594449, 2.2991517097390917, 2.2992758166057357, 2.2991306163535676, 2.2991135186769753, 2.2992138019000863, 2.299258125669617, 2.2992562444619744, 45.87722745066632, 4.644900774986854, 476.75011295254, 6.181997945037215, 9.137133564731153, 6.2031757071903275, 8.345988397949712, 11.425474262252404, 25.81894694588766, 38.195365018622354, 20.165912876025015, 37.89827646548112, 1224.9639522482373, 40.554214196034046, 36.5495634974006, 20.828467451224004, 26.983783276575195, 94.90748819450727, 41.46035571699021, 20.652219026336255, 22.462389314855606, 129.87797804827292, 27.392883894675073, 79.3296633494806, 18.43834523793449, 26.032750453523565, 23.767219348284648, 32.36363525521337, 26.5056578470896, 14.52642214741785, 18.973936978904632, 79.52670656258606, 102.17566722125392, 40.90818037584499, 102.26768365051895, 72.81265423224554, 35.650633154627734, 24.15859793560215, 5.09607730239618, 2.931058938248882, 2.93113519644373, 2.9312057461349554, 2.9313030161312748, 2.930753156604809, 2.9309731819075724, 2.930465296640988, 2.933086735032359, 2.933396837887796, 2.9361402776984944, 2.9479276237245537, 5.188014071504972, 2.2099326023697357, 2.2098553711252076, 2.209829176064252, 2.2095735530018423, 2.209516288866281, 2.2099361641892923, 2.209784998356082, 2.209848811392715, 2.209856578550003, 2.2098485440106668, 2.209752386531053, 2.2097617979807813, 2.209779342390683, 2.2096584705643503, 2.209668589648066, 2.209679582190753, 2.209557974878609, 8.086671321663227, 5.200517960398473, 5.905955953008334, 5.193154529818432, 4.41738764750589, 7.492892945578781, 11.97802676733034, 4.480027356495108, 8.15436123914466, 24.275932494951945, 6.678425146031197, 11.170109811772395, 1224.9639522482373, 8.185575182343115, 3.696757653418606, 3.7017566463780858, 102.17566722125392, 7.47330042958823, 34.22988702922159, 24.15859793560215, 9.739380628123282, 26.5056578470896, 476.75011295254, 33.401658891956465, 30.29360010815686, 19.72754985658658, 79.52670656258606, 26.567139580900502, 10.571289634033509, 27.209724715691284, 40.90818037584499, 102.26768365051895, 24.502748579005953, 32.36363525521337, 18.283193721706482, 49.10732552623869, 94.90748819450727, 20.518725765002426, 45.87722745066632, 79.3296633494806, 31.643743717339955, 38.195365018622354, 32.57071638794839, 42.109553265256146], \"Category\": [\"Default\", \"Default\", \"Default\", \"Default\", \"Default\", \"Default\", \"Default\", \"Default\", \"Default\", \"Default\", \"Default\", \"Default\", \"Default\", \"Default\", \"Default\", \"Default\", \"Default\", \"Default\", \"Default\", \"Default\", \"Default\", \"Default\", \"Default\", \"Default\", \"Default\", \"Default\", \"Default\", \"Default\", \"Default\", \"Default\", \"Topic1\", \"Topic1\", \"Topic1\", \"Topic1\", \"Topic1\", \"Topic1\", \"Topic1\", \"Topic1\", \"Topic1\", \"Topic1\", \"Topic1\", \"Topic1\", \"Topic1\", \"Topic1\", \"Topic1\", \"Topic1\", \"Topic1\", \"Topic1\", \"Topic1\", \"Topic1\", \"Topic1\", \"Topic1\", \"Topic1\", \"Topic1\", \"Topic1\", \"Topic1\", \"Topic1\", \"Topic1\", \"Topic1\", \"Topic1\", \"Topic1\", \"Topic1\", \"Topic1\", \"Topic1\", \"Topic1\", \"Topic1\", \"Topic1\", \"Topic1\", \"Topic1\", \"Topic1\", \"Topic1\", \"Topic1\", \"Topic1\", \"Topic1\", \"Topic1\", \"Topic1\", \"Topic1\", \"Topic1\", \"Topic1\", \"Topic1\", \"Topic1\", \"Topic1\", \"Topic1\", \"Topic1\", \"Topic1\", \"Topic1\", \"Topic1\", \"Topic1\", \"Topic1\", \"Topic1\", \"Topic1\", \"Topic1\", \"Topic1\", \"Topic1\", \"Topic1\", \"Topic1\", \"Topic1\", \"Topic1\", \"Topic1\", \"Topic1\", \"Topic1\", \"Topic1\", \"Topic1\", \"Topic1\", \"Topic1\", \"Topic1\", \"Topic1\", \"Topic1\", \"Topic2\", \"Topic2\", \"Topic2\", \"Topic2\", \"Topic2\", \"Topic2\", \"Topic2\", \"Topic2\", \"Topic2\", \"Topic2\", \"Topic2\", \"Topic2\", \"Topic2\", \"Topic2\", \"Topic2\", \"Topic2\", \"Topic2\", \"Topic2\", \"Topic2\", \"Topic2\", \"Topic2\", \"Topic2\", \"Topic2\", \"Topic2\", \"Topic2\", \"Topic2\", \"Topic2\", \"Topic2\", \"Topic2\", \"Topic2\", \"Topic2\", \"Topic2\", \"Topic2\", \"Topic2\", \"Topic2\", \"Topic2\", \"Topic2\", \"Topic2\", \"Topic2\", \"Topic2\", \"Topic2\", \"Topic2\", \"Topic2\", \"Topic2\", \"Topic2\", \"Topic2\", \"Topic2\", \"Topic2\", \"Topic2\", \"Topic2\", \"Topic2\", \"Topic2\", \"Topic2\", \"Topic2\", \"Topic2\", \"Topic2\", \"Topic2\", \"Topic2\", \"Topic2\", \"Topic2\", \"Topic2\", \"Topic2\", \"Topic2\", \"Topic3\", \"Topic3\", \"Topic3\", \"Topic3\", \"Topic3\", \"Topic3\", \"Topic3\", \"Topic3\", \"Topic3\", \"Topic3\", \"Topic3\", \"Topic3\", \"Topic3\", \"Topic3\", \"Topic3\", \"Topic3\", \"Topic3\", \"Topic3\", \"Topic3\", \"Topic3\", \"Topic3\", \"Topic3\", \"Topic3\", \"Topic3\", \"Topic3\", \"Topic3\", \"Topic3\", \"Topic3\", \"Topic3\", \"Topic3\", \"Topic3\", \"Topic3\", \"Topic3\", \"Topic3\", \"Topic3\", \"Topic3\", \"Topic3\", \"Topic3\", \"Topic3\", \"Topic3\", \"Topic3\", \"Topic3\", \"Topic3\", \"Topic3\", \"Topic3\", \"Topic3\", \"Topic3\", \"Topic3\", \"Topic3\", \"Topic3\", \"Topic3\", \"Topic3\", \"Topic3\", \"Topic3\", \"Topic3\", \"Topic3\", \"Topic3\", \"Topic3\", \"Topic3\", \"Topic3\", \"Topic3\", \"Topic3\", \"Topic3\", \"Topic3\", \"Topic3\", \"Topic3\", \"Topic3\", \"Topic3\", \"Topic3\", \"Topic3\", \"Topic3\", \"Topic3\", \"Topic3\", \"Topic3\", \"Topic3\", \"Topic3\", \"Topic3\", \"Topic3\", \"Topic3\", \"Topic3\", \"Topic3\", \"Topic3\", \"Topic4\", \"Topic4\", \"Topic4\", \"Topic4\", \"Topic4\", \"Topic4\", \"Topic4\", \"Topic4\", \"Topic4\", \"Topic4\", \"Topic4\", \"Topic4\", \"Topic4\", \"Topic4\", \"Topic4\", \"Topic4\", \"Topic4\", \"Topic4\", \"Topic4\", \"Topic4\", \"Topic4\", \"Topic4\", \"Topic4\", \"Topic4\", \"Topic4\", \"Topic4\", \"Topic4\", \"Topic4\", \"Topic4\", \"Topic4\", \"Topic4\", \"Topic4\", \"Topic4\", \"Topic4\", \"Topic4\", \"Topic4\", \"Topic4\", \"Topic4\", \"Topic4\", \"Topic4\", \"Topic4\", \"Topic4\", \"Topic4\", \"Topic4\", \"Topic4\", \"Topic4\", \"Topic4\", \"Topic4\", \"Topic4\", \"Topic4\", \"Topic4\", \"Topic4\", \"Topic4\", \"Topic4\", \"Topic4\", \"Topic4\", \"Topic4\", \"Topic4\", \"Topic4\", \"Topic4\", \"Topic4\", \"Topic4\", \"Topic4\", \"Topic4\", \"Topic4\", \"Topic4\", \"Topic4\", \"Topic4\", \"Topic5\", \"Topic5\", \"Topic5\", \"Topic5\", \"Topic5\", \"Topic5\", \"Topic5\", \"Topic5\", \"Topic5\", \"Topic5\", \"Topic5\", \"Topic5\", \"Topic5\", \"Topic5\", \"Topic5\", \"Topic5\", \"Topic5\", \"Topic5\", \"Topic5\", \"Topic5\", \"Topic5\", \"Topic5\", \"Topic5\", \"Topic5\", \"Topic5\", \"Topic5\", \"Topic5\", \"Topic5\", \"Topic5\", \"Topic5\", \"Topic5\", \"Topic5\", \"Topic5\", \"Topic5\", \"Topic5\", \"Topic5\", \"Topic5\", \"Topic5\", \"Topic5\", \"Topic5\", \"Topic5\", \"Topic5\", \"Topic5\", \"Topic5\", \"Topic5\", \"Topic5\", \"Topic5\", \"Topic5\", \"Topic5\", \"Topic5\", \"Topic5\", \"Topic5\", \"Topic5\", \"Topic5\", \"Topic5\", \"Topic5\", \"Topic5\", \"Topic5\", \"Topic5\", \"Topic5\", \"Topic5\", \"Topic5\", \"Topic5\", \"Topic5\", \"Topic5\", \"Topic5\", \"Topic5\", \"Topic5\", \"Topic5\", \"Topic5\", \"Topic5\", \"Topic5\", \"Topic5\", \"Topic5\"], \"logprob\": [30.0, 29.0, 28.0, 27.0, 26.0, 25.0, 24.0, 23.0, 22.0, 21.0, 20.0, 19.0, 18.0, 17.0, 16.0, 15.0, 14.0, 13.0, 12.0, 11.0, 10.0, 9.0, 8.0, 7.0, 6.0, 5.0, 4.0, 3.0, 2.0, 1.0, -6.9729, -6.973, -6.973, -6.9732, -6.9732, -6.9734, -6.9735, -6.9747, -6.8813, -6.8948, -7.4582, -7.4621, -7.4634, -7.0702, -7.4901, -6.8207, -6.973, -7.8323, -7.8324, -7.8325, -7.8326, -7.8327, -7.8327, -7.8328, -7.8329, -7.8328, -7.8329, -7.8329, -7.8329, -7.833, -6.6473, -7.5458, -7.5462, -7.1867, -6.5417, -7.1891, -7.0526, -7.2038, -7.3683, -6.5278, -6.4092, -7.0759, -6.9728, -5.6553, -2.627, -6.3493, -6.7968, -3.5766, -6.5511, -5.5536, -6.8099, -6.0145, -6.0623, -4.8813, -5.5645, -5.1328, -6.0139, -6.1951, -5.4219, -5.8968, -5.8709, -5.3322, -5.8829, -6.2644, -5.5724, -5.5812, -5.8749, -5.8859, -5.8957, -5.9073, -6.3825, -5.566, -6.1649, -6.0106, -6.1352, -6.0959, -6.1392, -6.2614, -5.2228, -5.3333, -5.3344, -5.2965, -6.3397, -6.3401, -6.3404, -6.3404, -6.3405, -6.3406, -6.9117, -5.2952, -7.1245, -7.1251, -6.6668, -7.1352, -6.983, -6.5794, -7.3961, -7.3966, -7.3993, -7.2005, -6.3401, -7.4687, -6.3711, -6.9111, -7.7707, -7.7707, -7.7708, -7.7708, -6.1066, -7.0818, -4.84, -6.5865, -6.1946, -6.3658, -5.6123, -6.0098, -4.2366, -6.154, -5.1404, -2.6916, -6.076, -4.7183, -4.9719, -5.7867, -4.9033, -5.6981, -5.5375, -5.5414, -5.5389, -4.3572, -5.6011, -5.3796, -5.7676, -5.7518, -5.7781, -5.9631, -5.8368, -5.9142, -5.6272, -5.9723, -5.888, -6.6163, -6.9407, -6.9412, -7.1547, -7.4259, -7.4263, -7.4264, -7.4264, -7.4268, -7.4277, -7.4286, -6.8787, -7.224, -6.7653, -6.2834, -7.8001, -7.8002, -7.8002, -7.8004, -7.8004, -7.8005, -7.8007, -7.8008, -7.8008, -7.801, -7.8009, -7.801, -7.8009, -7.8009, -7.801, -6.6061, -7.5178, -6.8419, -6.1033, -6.765, -7.154, -7.1544, -7.1548, -6.9399, -6.2855, -6.9406, -6.9411, -7.2012, -6.5389, -5.2451, -2.6751, -6.791, -6.4011, -5.1624, -5.0325, -6.229, -6.2031, -6.4235, -6.154, -6.5592, -3.9811, -5.9424, -5.6782, -6.0001, -5.9381, -5.1098, -5.2967, -6.2139, -5.8532, -5.8493, -5.7477, -5.9102, -5.8296, -5.8222, -5.8657, -6.0529, -6.248, -5.9164, -6.1728, -5.9741, -5.9225, -5.9252, -5.7565, -5.8388, -6.1425, -6.0368, -6.1125, -6.5072, -7.0452, -7.0455, -7.0457, -7.0458, -7.0462, -7.0465, -7.0466, -7.0467, -7.0469, -7.0476, -7.3183, -7.3187, -7.3187, -7.3187, -7.3189, -7.3187, -7.3187, -7.3207, -6.6565, -7.387, -7.3938, -7.6919, -7.692, -7.692, -7.6921, -7.6921, -7.6921, -7.6921, -7.6921, -4.9524, -7.0461, -3.0047, -6.8324, -6.5065, -6.8419, -6.5903, -6.3616, -5.7118, -5.5021, -5.9806, -5.524, -3.0281, -5.5965, -5.686, -6.0574, -5.9197, -5.1317, -5.698, -6.1494, -6.1019, -5.1573, -5.9992, -5.4475, -6.2293, -6.062, -6.1288, -5.9776, -6.0814, -6.3855, -6.2846, -5.6139, -5.6673, -6.0707, -5.9223, -6.0702, -6.1983, -6.2799, -6.4779, -7.139, -7.1391, -7.1392, -7.1393, -7.1397, -7.1397, -7.1404, -7.1522, -7.1608, -7.172, -7.1984, -6.656, -7.5129, -7.5131, -7.5133, -7.5135, -7.5135, -7.5134, -7.5137, -7.5137, -7.5137, -7.5138, -7.5138, -7.5138, -7.5139, -7.5139, -7.5139, -7.5139, -7.514, -6.2245, -6.7069, -6.653, -6.7743, -6.9246, -6.4799, -6.1167, -6.9434, -6.4773, -5.6395, -6.6536, -6.303, -2.8341, -6.5445, -7.1394, -7.1399, -4.7761, -6.6457, -5.5964, -5.8733, -6.477, -5.8851, -4.1807, -5.7628, -5.8365, -6.0846, -5.3067, -5.9631, -6.4541, -5.9687, -5.768, -5.3572, -6.0838, -5.9839, -6.2661, -5.8907, -5.7023, -6.2355, -6.0028, -5.8779, -6.1901, -6.151, -6.2647, -6.2458], \"loglift\": [30.0, 29.0, 28.0, 27.0, 26.0, 25.0, 24.0, 23.0, 22.0, 21.0, 20.0, 19.0, 18.0, 17.0, 16.0, 15.0, 14.0, 13.0, 12.0, 11.0, 10.0, 9.0, 8.0, 7.0, 6.0, 5.0, 4.0, 3.0, 2.0, 1.0, 1.3568, 1.3567, 1.3567, 1.3566, 1.3565, 1.3564, 1.3563, 1.3555, 1.2964, 1.2829, 1.2776, 1.2737, 1.2728, 1.262, 1.2444, 1.2132, 1.1947, 1.1915, 1.1914, 1.1912, 1.1912, 1.1911, 1.1911, 1.191, 1.191, 1.191, 1.191, 1.191, 1.191, 1.191, 1.1782, 1.1863, 1.1858, 1.1441, 1.0909, 1.1314, 1.1127, 1.1236, 1.1363, 1.0245, 1.006, 1.0964, 1.0712, 0.8315, 0.123, 0.9365, 1.0265, 0.1171, 0.9372, 0.5668, 1.0059, 0.7026, 0.7209, 0.1128, 0.4022, 0.175, 0.5818, 0.6736, 0.1509, 0.4553, 0.4131, -0.0982, 0.2664, 0.637, -0.0853, -0.0966, 0.1738, 0.1612, 0.1683, 0.1567, 0.6889, -0.3329, 0.4124, -0.0543, 0.1924, 0.0401, 0.0787, -0.0413, 1.4789, 1.4775, 1.4768, 1.4425, 1.4302, 1.4298, 1.4296, 1.4296, 1.4296, 1.4295, 1.3731, 1.3474, 1.3445, 1.3439, 1.3358, 1.3343, 1.3054, 1.3024, 1.2989, 1.2986, 1.2962, 1.2721, 1.2585, 1.2295, 1.2266, 1.226, 1.2169, 1.2169, 1.2168, 1.2168, 1.2061, 1.211, 1.1872, 1.1962, 1.1881, 1.1629, 1.0494, 1.093, 0.7575, 1.0485, 0.8159, 0.0584, 1.0197, 0.5148, 0.5152, 0.7893, 0.3307, 0.6791, 0.5264, 0.5226, 0.5082, -0.6635, 0.4476, 0.1932, 0.5388, 0.4684, 0.5058, 0.8111, 0.5139, 0.6362, -0.1426, 0.4989, -0.5802, 1.4426, 1.4052, 1.4048, 1.3732, 1.3243, 1.324, 1.3238, 1.3237, 1.3235, 1.3224, 1.3216, 1.3061, 1.3027, 1.2911, 1.2879, 1.2366, 1.2365, 1.2364, 1.2363, 1.2363, 1.2363, 1.2361, 1.236, 1.236, 1.2359, 1.2359, 1.2359, 1.2358, 1.2358, 1.2358, 1.2253, 1.231, 1.2156, 1.1482, 1.1792, 1.1996, 1.1892, 1.1862, 1.1213, 1.0179, 1.1072, 1.1052, 1.1416, 1.0328, 0.782, 0.0749, 1.0406, 0.8977, 0.4104, 0.2752, 0.7974, 0.7846, 0.8774, 0.753, 0.9307, -0.2874, 0.635, 0.4798, 0.631, 0.5837, 0.1232, 0.1879, 0.7213, 0.4975, 0.4376, 0.3009, 0.3518, 0.2344, 0.2249, 0.1982, 0.4182, 0.6608, 0.2195, 0.5483, 0.1463, 0.0442, 0.0311, -0.5225, -0.8447, 0.4385, -0.5497, 0.0368, 1.5403, 1.4721, 1.4719, 1.4717, 1.4717, 1.4712, 1.471, 1.4709, 1.4708, 1.4706, 1.4701, 1.4221, 1.4219, 1.4219, 1.4219, 1.4219, 1.4219, 1.4219, 1.4199, 1.3926, 1.3566, 1.3432, 1.3362, 1.3361, 1.3361, 1.3361, 1.3361, 1.336, 1.336, 1.336, 1.0823, 1.2788, 0.689, 1.2066, 1.1418, 1.1937, 1.1486, 1.0632, 0.8978, 0.7159, 0.8761, 0.7018, -0.2781, 0.5615, 0.576, 0.7669, 0.6458, 0.176, 0.4379, 0.6835, 0.647, -0.1632, 0.5512, 0.0396, 0.717, 0.5393, 0.5635, 0.4061, 0.5019, 0.7992, 0.633, -0.1293, -0.4333, 0.0786, -0.6892, -0.4974, 0.0886, 0.3962, 1.7543, 1.6463, 1.6462, 1.6461, 1.6459, 1.6458, 1.6456, 1.6451, 1.6324, 1.6237, 1.6116, 1.5812, 1.5583, 1.5548, 1.5546, 1.5544, 1.5544, 1.5544, 1.5543, 1.5541, 1.5541, 1.554, 1.554, 1.554, 1.554, 1.5539, 1.5539, 1.5539, 1.5539, 1.5539, 1.5459, 1.505, 1.4317, 1.4391, 1.4506, 1.3668, 1.2609, 1.4177, 1.2848, 1.0317, 1.3082, 1.1445, -0.0841, 1.2138, 1.4138, 1.412, 0.4579, 1.2036, 0.7312, 0.8027, 1.1075, 0.6983, -0.487, 0.5893, 0.6132, 0.794, 0.1779, 0.6179, 1.0485, 0.5884, 0.3814, -0.1241, 0.5781, 0.3997, 0.6886, 0.076, -0.3945, 0.6039, 0.0319, -0.3908, 0.216, 0.067, 0.1126, -0.1254]}, \"token.table\": {\"Topic\": [4, 4, 1, 2, 3, 4, 5, 1, 4, 5, 1, 2, 4, 5, 1, 2, 3, 4, 1, 1, 2, 4, 5, 1, 1, 2, 3, 4, 5, 1, 4, 1, 2, 3, 4, 5, 4, 1, 2, 3, 4, 5, 1, 2, 3, 5, 1, 2, 3, 4, 5, 5, 1, 2, 5, 1, 2, 3, 4, 5, 5, 1, 2, 3, 4, 5, 2, 1, 3, 4, 4, 1, 2, 3, 4, 2, 1, 2, 3, 4, 5, 5, 4, 5, 1, 2, 5, 1, 2, 5, 1, 2, 4, 5, 1, 3, 1, 2, 3, 4, 1, 2, 3, 4, 5, 1, 1, 3, 4, 1, 4, 4, 3, 1, 4, 5, 1, 2, 3, 4, 5, 1, 2, 3, 4, 5, 1, 2, 3, 4, 1, 2, 3, 4, 5, 1, 2, 3, 1, 2, 3, 4, 2, 3, 1, 1, 2, 3, 5, 1, 2, 3, 4, 5, 2, 5, 1, 2, 3, 4, 5, 1, 5, 1, 2, 3, 4, 1, 1, 2, 3, 1, 2, 3, 5, 1, 5, 1, 2, 3, 4, 5, 1, 2, 3, 4, 5, 4, 3, 4, 1, 3, 5, 2, 2, 1, 3, 2, 4, 3, 1, 2, 3, 4, 3, 4, 1, 3, 4, 5, 1, 2, 4, 5, 1, 2, 3, 4, 4, 1, 5, 4, 1, 3, 4, 5, 1, 2, 3, 4, 5, 5, 1, 2, 3, 4, 5, 1, 2, 3, 2, 5, 3, 5, 3, 5, 2, 3, 4, 5, 5, 5, 3, 4, 1, 2, 3, 1, 2, 3, 4, 5, 1, 2, 3, 4, 5, 1, 2, 1, 3, 1, 3, 4, 5, 1, 2, 3, 4, 5, 1, 2, 3, 4, 5, 3, 1, 2, 3, 4, 5, 1, 2, 3, 4, 5, 1, 2, 3, 4, 5, 1, 2, 3, 4, 5, 4, 1, 2, 3, 4, 5, 1, 4, 5, 2, 4, 5, 3, 1, 2, 3, 4, 5, 4, 4, 2, 2, 4, 1, 2, 3, 4, 5, 3, 1, 2, 3, 4, 5, 1, 2, 3, 5, 3, 3, 3, 1, 1, 2, 4, 5, 1, 2, 3, 4, 5, 1, 1, 5, 2, 1, 2, 3, 4, 5, 1, 2, 3, 4, 1, 2, 3, 4, 4, 1, 2, 3, 4, 5, 3, 5, 1, 3, 5, 5, 1, 2, 3, 4, 5, 2, 1, 4, 5, 1, 2, 3, 4, 5, 2, 3, 4, 5, 3, 3, 1, 2, 3, 4, 1, 2, 3, 4, 5, 5, 3, 4, 5, 1, 2, 3, 4, 5, 1, 2, 3, 4, 5, 3, 2, 3, 5, 1, 1, 2, 3, 4, 5, 1, 2, 3, 4, 1, 3, 4, 5, 1, 4, 5, 2, 4, 1, 2, 3, 4, 5, 1, 2, 3, 4, 5, 1, 2, 3, 4, 5, 1, 2, 3, 4, 5, 1, 2, 5, 3, 4, 5, 3, 4, 1, 2, 3, 4, 5, 1, 2, 3, 4, 5, 1, 2, 4, 1, 2, 3, 5, 1, 1, 2, 3, 4, 5, 1, 2, 1, 2, 1, 4, 5, 3, 4, 3, 1, 2, 1, 2, 1, 2, 3, 4, 5, 4, 1, 3, 1, 2, 4, 5, 4, 2, 1, 2, 3, 4, 5, 1, 2, 3, 4, 2, 4, 3, 2, 1, 2, 4, 1, 2, 3, 4, 3, 4, 1, 1, 2, 3, 4, 2, 2, 3, 4, 5, 2, 2, 1, 2, 4, 5, 3, 1, 2, 3, 4, 5, 3, 1, 5, 3, 1, 2, 4, 5, 1, 4, 4, 1, 2, 5, 1, 3, 2, 5, 3, 5, 2, 1, 2, 4, 1, 2, 3, 5, 1, 2, 3, 4, 5, 1, 2, 1, 2, 3, 4, 2, 4, 5, 1, 2, 3, 4, 5, 1, 2, 3, 4, 5, 1, 3, 4, 1, 2, 3, 4, 1, 2, 1, 2, 3, 4, 5, 1, 2, 3, 4, 5, 2, 3, 4, 1, 1, 2, 3, 4, 5, 1, 2, 3, 4, 5, 1, 2, 3, 4, 5, 1, 2, 3, 4, 5, 2, 4, 5, 2, 1, 3, 4, 5, 4, 5, 3, 1, 2, 3, 4, 5, 1, 2, 3, 4, 5, 1, 1, 2, 3, 4, 5, 1, 2, 3, 4, 5, 2, 5, 5, 1, 2, 3, 4, 5, 4, 1, 1, 5, 1, 2, 3, 4, 5, 4, 1, 2, 3, 4, 5, 1, 1, 2, 3, 4, 5, 3, 4, 5, 3, 5], \"Freq\": [0.7830387481619637, 0.6525102276320084, 0.25170418787492954, 0.11326688454371829, 0.1594126523207887, 0.3838488865092675, 0.09229153555414082, 0.1198180433902426, 0.599090216951213, 0.2396360867804852, 0.09602242722291449, 0.28806728166874346, 0.43210092250311516, 0.19204485444582897, 0.2693253181822303, 0.3815442007581596, 0.2693253181822303, 0.08977510606074343, 0.6493913829634682, 0.08391053934868478, 0.7551948541381631, 0.08391053934868478, 0.08391053934868478, 0.8661863347306882, 0.20169000250906471, 0.3655631295476798, 0.12605625156816544, 0.20169000250906471, 0.10084500125453236, 0.8674339939366293, 0.7830110350941887, 0.15670892643142084, 0.15670892643142084, 0.41789047048378886, 0.26118154405236804, 0.05223630881047361, 0.6524847142322265, 0.08278626124459942, 0.12417939186689915, 0.16557252248919885, 0.289751914356098, 0.3311450449783977, 0.23147870455284658, 0.07715956818428218, 0.5401169772899753, 0.07715956818428218, 0.20990649732805264, 0.3410980581580855, 0.20990649732805264, 0.15742987299603947, 0.07871493649801974, 0.9051584175381856, 0.7392275833378532, 0.1848068958344633, 0.1848068958344633, 0.2283092013519993, 0.5022802429743984, 0.13698552081119958, 0.045661840270399864, 0.13698552081119958, 0.7849174497645859, 0.14981969181047836, 0.4869139983840547, 0.07490984590523918, 0.22472953771571755, 0.07490984590523918, 0.9352633732225406, 0.6469492297994414, 0.8793716893770641, 0.7829531459306464, 0.8698860503759278, 0.04958863038572812, 0.2479431519286406, 0.19835452154291247, 0.4462976734715531, 0.8652913413212264, 0.35926359342858116, 0.11975453114286039, 0.14969316392857548, 0.08981589835714529, 0.26944769507143584, 0.9050787826683471, 0.7829830523610254, 0.9050749279074081, 0.8662366142451713, 0.19228853887534275, 0.769154155501371, 0.8661073544874516, 0.8353260558432366, 0.6818034212650573, 0.7433000166738984, 0.6797263281732411, 0.09710376116760587, 0.09710376116760587, 0.8660469504508694, 0.877519100198092, 0.09340526883514334, 0.09340526883514334, 0.56043161301086, 0.28021580650543, 0.15207159641258583, 0.20276212855011444, 0.20276212855011444, 0.10138106427505722, 0.35483372496270027, 0.866098732053355, 0.13145038830925485, 0.6572519415462742, 0.2629007766185097, 0.8661896071561569, 0.783029495537373, 0.8698390969694378, 0.7912198028140721, 0.6502894904845713, 0.16257237262114282, 0.9051520359133899, 0.24119426442600586, 0.1447165586556035, 0.26531369086860646, 0.289433117311207, 0.07235827932780176, 0.2609436532748415, 0.27467752976299104, 0.3158791592274397, 0.12360488839334598, 0.04120162946444866, 0.2693264488702985, 0.3815458025662562, 0.2693264488702985, 0.08977548295676616, 0.2522523209216703, 0.23429260875248992, 0.22857815488047797, 0.14612674901287698, 0.13959594458772048, 0.12518107341171683, 0.751086440470301, 0.12518107341171683, 0.26523692570171464, 0.35364923426895284, 0.2873400028435242, 0.08841230856723821, 0.7459618131768511, 0.8774958362123163, 0.8661717921089945, 0.8660938155931698, 0.18713690455288878, 0.7485476182115551, 0.9051131058158092, 0.24832652191209845, 0.14190086966405624, 0.39022739157615466, 0.07095043483202812, 0.1773760870800703, 0.8302611207542329, 0.6823472479181434, 0.1111778867051723, 0.25941506897873534, 0.14823718227356306, 0.37059295568390765, 0.1111778867051723, 0.2701420151371731, 0.5402840302743462, 0.08005901337291717, 0.8406196404156303, 0.040029506686458584, 0.040029506686458584, 0.646933739330548, 0.6474702547576126, 0.21582341825253754, 0.21582341825253754, 0.15647743557594004, 0.7041484600917302, 0.07823871778797002, 0.07823871778797002, 0.743306251984602, 0.905036109317239, 0.12979848566200028, 0.7355247520846683, 0.04326616188733343, 0.021633080943666717, 0.06489924283100014, 0.26073654961632803, 0.15644192976979684, 0.4693257893093905, 0.10429461984653123, 0.05214730992326561, 0.6526255873428248, 0.6587414576304894, 0.7832551588299402, 0.16538644267968353, 0.6615457707187341, 0.16538644267968353, 0.7486763290565506, 0.8652353699787624, 0.16459422268125232, 0.8229711134062615, 0.2152898519135385, 0.6458695557406154, 0.8774278224828544, 0.6469696577128651, 0.12939393154257303, 0.12939393154257303, 0.12939393154257303, 0.6588677510088756, 0.6501436126668485, 0.13144030035648777, 0.6572015017824389, 0.13144030035648777, 0.6822904315909292, 0.18892730496674887, 0.6297576832224963, 0.18892730496674887, 0.6824184409706279, 0.26481794746029363, 0.3751587589020826, 0.26481794746029363, 0.110340811441789, 0.7829993478995257, 0.6494015778484152, 0.6823294955574031, 0.6544849944490782, 0.5595133274274252, 0.0932522212379042, 0.1865044424758084, 0.0932522212379042, 0.17504743821511373, 0.08752371910755687, 0.08752371910755687, 0.5251423146453412, 0.17504743821511373, 0.9051172507619228, 0.14015062286473615, 0.6306778028913127, 0.07007531143236807, 0.07007531143236807, 0.07007531143236807, 0.5965589780509791, 0.19885299268365972, 0.09942649634182986, 0.22321292269570808, 0.6696387680871243, 0.6646303609065669, 0.2215434536355223, 0.8774009759340886, 0.9050049751994145, 0.3295444985136434, 0.1647722492568217, 0.08238612462841086, 0.4119306231420543, 0.9050654255902059, 0.6784427079906066, 0.659090048602072, 0.164772512150518, 0.1629537630251284, 0.1629537630251284, 0.6518150521005136, 0.31622324911645094, 0.052703874852741826, 0.052703874852741826, 0.36892712396919275, 0.2108154994109673, 0.15464296828303623, 0.07732148414151811, 0.5412503889906268, 0.07732148414151811, 0.15464296828303623, 0.6430698542994062, 0.21435661809980208, 0.20266849857686972, 0.8106739943074789, 0.3098499724549846, 0.03873124655687307, 0.46477495868247687, 0.1549249862274923, 0.4312841228871355, 0.21564206144356776, 0.12938523686614067, 0.1725136491548542, 0.0862568245774271, 0.15143387437363023, 0.21633410624804317, 0.4543016231208907, 0.1298004637488259, 0.021633410624804318, 0.6588030448014696, 0.262928124545571, 0.17528541636371403, 0.029214236060619004, 0.17528541636371403, 0.32135659666680905, 0.059796187300590754, 0.35877712380354454, 0.35877712380354454, 0.17938856190177227, 0.029898093650295377, 0.15645215994797598, 0.37157387987644297, 0.234678239921964, 0.09778259996748499, 0.136895639954479, 0.22050939738247055, 0.07350313246082352, 0.2572609636128823, 0.14700626492164703, 0.2572609636128823, 0.6525549761172029, 0.14300525115794907, 0.3718136530106676, 0.2288084018527185, 0.14300525115794907, 0.08580315069476945, 0.7839952972517713, 0.1306658828752952, 0.1306658828752952, 0.9257295742978667, 0.0440823606808508, 0.9050035165760968, 0.8773016920947231, 0.2924158190287744, 0.1462079095143872, 0.09747193967625814, 0.19494387935251628, 0.2924158190287744, 0.6524217486017642, 0.6524893086328498, 0.9476718093928613, 0.935506005375819, 0.782927147158566, 0.07545558806870382, 0.15091117613740765, 0.15091117613740765, 0.3018223522748153, 0.3018223522748153, 0.8795082956795901, 0.12241889805640341, 0.612094490282017, 0.08161259870426894, 0.08161259870426894, 0.08161259870426894, 0.10136698002471625, 0.10136698002471625, 0.6082018801482976, 0.10136698002471625, 0.6587385833728325, 0.8773953038441022, 0.8773388480265484, 0.865357796328304, 0.16120775022394795, 0.16120775022394795, 0.6448310008957918, 0.6818755054572007, 0.10944043149200618, 0.10944043149200618, 0.300961186603017, 0.35568140234902007, 0.13680053936500772, 0.865390097496358, 0.8652978261254789, 0.682313072917918, 0.8652607863659804, 0.16829995624414745, 0.28049992707357907, 0.3365999124882949, 0.19634994895150537, 0.028049992707357908, 0.2261185286213727, 0.1695888964660295, 0.4522370572427454, 0.11305926431068634, 0.20234993460960252, 0.3709748801176046, 0.33724989101600417, 0.10117496730480126, 0.7830637753046116, 0.29052568115555244, 0.09684189371851748, 0.09684189371851748, 0.3873675748740699, 0.14526284057777622, 0.1693205990624815, 0.677282396249926, 0.14712158203898953, 0.7356079101949476, 0.14712158203898953, 0.6823672124827614, 0.26341440992268156, 0.12643891676288715, 0.27395098631958886, 0.23180468073195978, 0.10536576396907263, 0.8653253458805984, 0.14973590002641152, 0.29947180005282303, 0.5989436001056461, 0.3375228755421669, 0.03750254172690744, 0.41252795899598177, 0.15001016690762975, 0.07500508345381487, 0.1221661248872374, 0.2443322497744748, 0.1221661248872374, 0.4886644995489496, 0.8774246948313057, 0.6588332597193011, 0.20153594155014168, 0.5038398538753542, 0.22168953570515584, 0.0604607824650425, 0.13768015136166967, 0.06884007568083483, 0.27536030272333933, 0.41304045408500895, 0.06884007568083483, 0.9050677421195683, 0.8250427718960658, 0.7830326046357609, 0.9051754947804502, 0.20119027546310236, 0.18861588324665848, 0.25148784432887794, 0.16346709881377067, 0.17604149103021458, 0.10727996472292187, 0.3754798765302265, 0.42911985889168747, 0.05363998236146093, 0.05363998236146093, 0.7902778374807905, 0.7289208380574472, 0.20826309658784206, 0.9051086031292965, 0.8654303117575798, 0.04451886155043379, 0.2671131693026027, 0.2671131693026027, 0.3561508924034703, 0.04451886155043379, 0.216511988388743, 0.1299071930332458, 0.3464191814219888, 0.2598143860664916, 0.12263376255635366, 0.24526752511270733, 0.12263376255635366, 0.49053505022541466, 0.6518583672270599, 0.26074334689082396, 0.13037167344541198, 0.865172600764815, 0.8698457896794587, 0.08414951579703185, 0.1682990315940637, 0.29452330528961146, 0.3365980631881274, 0.08414951579703185, 0.20552838626956102, 0.3033990463979234, 0.1272318581668711, 0.1272318581668711, 0.23488958430806975, 0.33560944609302373, 0.363576899934109, 0.08390236152325593, 0.08390236152325593, 0.13983726920542655, 0.3258169698419229, 0.22399916676632198, 0.22399916676632198, 0.06109068184536054, 0.16290848492096144, 0.8661531827812938, 0.7798801053950406, 0.15597602107900813, 0.6201534194696691, 0.31007670973483453, 0.07751917743370863, 0.6580493819167029, 0.21934979397223428, 0.17260844868458966, 0.09863339924833694, 0.3452168973691793, 0.3452168973691793, 0.04931669962416847, 0.24638511070834712, 0.46967161728778667, 0.09239441651563017, 0.1616902289023528, 0.023098604128907543, 0.13821620581219807, 0.8292972348731885, 0.8698465013707073, 0.17842888477495633, 0.7137155390998253, 0.6588312913836845, 0.9050366038125137, 0.6495929027426054, 0.45171939048021725, 0.1505731301600724, 0.1505731301600724, 0.1003820867733816, 0.1505731301600724, 0.8046296220999544, 0.16092592441999087, 0.7730552875586255, 0.2576850958528752, 0.12366027506535593, 0.12366027506535593, 0.7419616503921356, 0.6587561412585032, 0.8699005002375436, 0.8773904856958664, 0.865270567961838, 0.835291705814287, 0.8661501761117284, 0.7459193861940151, 0.4148688086171215, 0.15557580323142056, 0.20743440430856075, 0.15557580323142056, 0.05185860107714019, 0.8698248799369447, 0.8661577088016554, 0.8774071538352828, 0.15449438731375406, 0.3089887746275081, 0.27808989716475735, 0.2162921422392557, 0.6524945851340305, 0.8353521750571198, 0.21878015738853396, 0.21878015738853396, 0.10939007869426698, 0.10939007869426698, 0.32817023608280094, 0.4302669827960323, 0.18440013548401385, 0.24586684731201847, 0.061466711828004617, 0.8339577565088052, 0.2084894391272013, 0.8773949958079702, 0.9473542849844635, 0.16176000200756782, 0.16176000200756782, 0.6470400080302713, 0.11752550811320088, 0.2938137702830022, 0.4701020324528035, 0.1762882621698013, 0.16339406571764356, 0.8169703285882178, 0.8661531318394207, 0.6463778621186467, 0.10772964368644111, 0.10772964368644111, 0.10772964368644111, 0.6253875477181396, 0.2169392073086104, 0.271174009135763, 0.3796436127900682, 0.1084696036543052, 0.8272948845107411, 0.835312904689889, 0.09459583784182507, 0.18919167568365014, 0.2837875135254752, 0.4729791892091253, 0.8773698298178119, 0.3819535876457097, 0.19097679382285485, 0.19097679382285485, 0.11458607629371291, 0.11458607629371291, 0.8773587478688935, 0.6485408085693101, 0.6824854750173895, 0.8773931516299043, 0.06342517638063735, 0.6342517638063735, 0.06342517638063735, 0.19027552914191206, 0.6497370399064757, 0.21657901330215856, 0.6525309073103713, 0.13345980080898592, 0.26691960161797185, 0.5338392032359437, 0.21877056103619558, 0.6563116831085868, 0.935117463864341, 0.6811663649693563, 0.8774562584762873, 0.9050392903302459, 0.7463377610481439, 0.10403873936521675, 0.7282711755565172, 0.10403873936521675, 0.26761937631753924, 0.13380968815876962, 0.13380968815876962, 0.5352387526350785, 0.5331043772333633, 0.15231553635238954, 0.07615776817619477, 0.07615776817619477, 0.07615776817619477, 0.7358967089813634, 0.18397417724534085, 0.6068031799455667, 0.08668616856365238, 0.17337233712730477, 0.08668616856365238, 0.9767068253517447, 0.4476231732950739, 0.4476231732950739, 0.08348620515087393, 0.16697241030174786, 0.08348620515087393, 0.08348620515087393, 0.5009172309052435, 0.11292145286716312, 0.18820242144527188, 0.3387643586014894, 0.07528096857810875, 0.2634833900233806, 0.21917734700083202, 0.6575320410024961, 0.21917734700083202, 0.4607706798497254, 0.18430827193989016, 0.2303853399248627, 0.09215413596994508, 0.7341138835824531, 0.18352847089561328, 0.16505136339519116, 0.13204109071615294, 0.23107190875326764, 0.23107190875326764, 0.2640821814323059, 0.2304789119655965, 0.15365260797706431, 0.11523945598279825, 0.3457183679483947, 0.15365260797706431, 0.1631841488890897, 0.6527365955563588, 0.1631841488890897, 0.8653035186941946, 0.25281458703055437, 0.3476200571670123, 0.15800911689409647, 0.06320364675763859, 0.18961094027291578, 0.20535186747141101, 0.10267593373570551, 0.10267593373570551, 0.20535186747141101, 0.41070373494282203, 0.5138272707007735, 0.17127575690025784, 0.06851030276010314, 0.10276545414015471, 0.13702060552020628, 0.23563068439356455, 0.10472474861936203, 0.07854356146452152, 0.3927178073226076, 0.15708712292904303, 0.19256118689673635, 0.19256118689673635, 0.5776835606902091, 0.8650716085916531, 0.21888702685926503, 0.10944351342963252, 0.6566610805777952, 0.10944351342963252, 0.8698940311499178, 0.9050473320123495, 0.6578651912481829, 0.14602332545123384, 0.40156414499089305, 0.07301166272561692, 0.3285524822652761, 0.07301166272561692, 0.043594613518235875, 0.15258114731382558, 0.08718922703647175, 0.5667299757370664, 0.15258114731382558, 0.8661066542756393, 0.15831854531603776, 0.26386424219339627, 0.13193212109669814, 0.39579636329009443, 0.07915927265801888, 0.19786558102794716, 0.11871934861676829, 0.3957311620558943, 0.23743869723353658, 0.07914623241117887, 0.1927519829779324, 0.7710079319117296, 0.9050393998360577, 0.4037088660835165, 0.14248548214712348, 0.23747580357853915, 0.09499032143141566, 0.14248548214712348, 0.9787964991832373, 0.8657093101357545, 0.2705073185079476, 0.5410146370158953, 0.16324699194878142, 0.28568223591036745, 0.16324699194878142, 0.12243524396158606, 0.28568223591036745, 0.869862558387213, 0.2933398623392603, 0.04888997705654338, 0.22000489675444523, 0.22000489675444523, 0.22000489675444523, 0.865309789325133, 0.061404851406339576, 0.42983395984437706, 0.2456194056253583, 0.09210727710950936, 0.18421455421901872, 0.662354692910088, 0.14718993175779732, 0.14718993175779732, 0.22637814015815702, 0.679134420474471], \"Term\": [\"actions\", \"adelahafez\", \"ai\", \"ai\", \"ai\", \"ai\", \"ai\", \"aiape\", \"aiape\", \"aiape\", \"aiape_coin\", \"aiape_coin\", \"aiape_coin\", \"aiape_coin\", \"aichatbot\", \"aichatbot\", \"aichatbot\", \"aichatbot\", \"ainewsdrop\", \"airdrop\", \"airdrop\", \"airdrop\", \"airdrop\", \"among\", \"amp\", \"amp\", \"amp\", \"amp\", \"amp\", \"andreas\", \"apecoin\", \"app\", \"app\", \"app\", \"app\", \"app\", \"archimedesinte\", \"artificial\", \"artificial\", \"artificial\", \"artificial\", \"artificial\", \"ask\", \"ask\", \"ask\", \"ask\", \"asked\", \"asked\", \"asked\", \"asked\", \"asked\", \"author\", \"automation\", \"automation\", \"automation\", \"available\", \"available\", \"available\", \"available\", \"available\", \"average\", \"azure\", \"azure\", \"azure\", \"azure\", \"azure\", \"backstreet\", \"banking\", \"battery\", \"bayc\", \"befirst\", \"best\", \"best\", \"best\", \"best\", \"billy\", \"bing\", \"bing\", \"bing\", \"bing\", \"bing\", \"bloomz\", \"bnb\", \"body\", \"bones\", \"books\", \"books\", \"bottom\", \"boys\", \"br\", \"braun\", \"brilliant\", \"brilliant\", \"brilliant\", \"broadly\", \"btcusdt\", \"built\", \"built\", \"built\", \"built\", \"business\", \"business\", \"business\", \"business\", \"business\", \"busy\", \"buy\", \"buy\", \"buy\", \"capture\", \"carry\", \"catsarefamily\", \"caution\", \"centric\", \"centric\", \"chain\", \"chat\", \"chat\", \"chat\", \"chat\", \"chat\", \"chatbot\", \"chatbot\", \"chatbot\", \"chatbot\", \"chatbot\", \"chatbotai\", \"chatbotai\", \"chatbotai\", \"chatbotai\", \"chatgpt\", \"chatgpt\", \"chatgpt\", \"chatgpt\", \"chatgpt\", \"chatgptjoin\", \"chatgptjoin\", \"chatgptjoin\", \"chatgptprompts\", \"chatgptprompts\", \"chatgptprompts\", \"chatgptprompts\", \"chatsonic\", \"china\", \"codes\", \"coffee\", \"coinbase\", \"coinbase\", \"collaboration\", \"coming\", \"coming\", \"coming\", \"coming\", \"coming\", \"communi\", \"connor\", \"content\", \"content\", \"content\", \"content\", \"content\", \"context\", \"context\", \"corporate\", \"corporate\", \"corporate\", \"corporate\", \"correct\", \"creation\", \"creation\", \"creation\", \"cryptogpt\", \"cryptogpt\", \"cryptogpt\", \"cryptogpt\", \"cto\", \"daboe\", \"data\", \"data\", \"data\", \"data\", \"data\", \"day\", \"day\", \"day\", \"day\", \"day\", \"deal\", \"decision\", \"deeds\", \"demo\", \"demo\", \"demo\", \"design\", \"desk\", \"developed\", \"developed\", \"devops\", \"devops\", \"differences\", \"discussion\", \"discussion\", \"discussion\", \"discussion\", \"documents\", \"drawbacks\", \"due\", \"due\", \"due\", \"dunning\", \"early\", \"early\", \"early\", \"effecta\", \"email\", \"email\", \"email\", \"email\", \"emphasis\", \"epaz\", \"especially\", \"essay\", \"even\", \"even\", \"even\", \"even\", \"everything\", \"everything\", \"everything\", \"everything\", \"everything\", \"excel\", \"excited\", \"excited\", \"excited\", \"excited\", \"excited\", \"experience\", \"experience\", \"experience\", \"face\", \"face\", \"fiction\", \"fiction\", \"finger\", \"finra\", \"first\", \"first\", \"first\", \"first\", \"five\", \"format\", \"friend\", \"friend\", \"fuss\", \"fuss\", \"fuss\", \"future\", \"future\", \"future\", \"future\", \"future\", \"game\", \"game\", \"game\", \"game\", \"game\", \"generating\", \"generating\", \"generation\", \"generation\", \"generative\", \"generative\", \"generative\", \"generative\", \"generativeai\", \"generativeai\", \"generativeai\", \"generativeai\", \"generativeai\", \"get\", \"get\", \"get\", \"get\", \"get\", \"ghostwriter\", \"good\", \"good\", \"good\", \"good\", \"good\", \"google\", \"google\", \"google\", \"google\", \"google\", \"gpt\", \"gpt\", \"gpt\", \"gpt\", \"gpt\", \"great\", \"great\", \"great\", \"great\", \"great\", \"happyfriday\", \"help\", \"help\", \"help\", \"help\", \"help\", \"hey\", \"hey\", \"hey\", \"highlights\", \"highlights\", \"hu\", \"huang\", \"human\", \"human\", \"human\", \"human\", \"human\", \"imp\", \"implementing\", \"incorporated\", \"infinite\", \"instagram\", \"intelligence\", \"intelligence\", \"intelligence\", \"intelligence\", \"intelligence\", \"intensive\", \"interesting\", \"interesting\", \"interesting\", \"interesting\", \"interesting\", \"internet\", \"internet\", \"internet\", \"internet\", \"iphone\", \"jensen\", \"jin\", \"kenkorea\", \"key\", \"key\", \"key\", \"kids\", \"know\", \"know\", \"know\", \"know\", \"know\", \"korea\", \"korean\", \"kruger\", \"lair\", \"language\", \"language\", \"language\", \"language\", \"language\", \"large\", \"large\", \"large\", \"large\", \"laws\", \"laws\", \"laws\", \"laws\", \"lay\", \"learning\", \"learning\", \"learning\", \"learning\", \"learning\", \"legal\", \"legal\", \"less\", \"less\", \"less\", \"lifetime\", \"like\", \"like\", \"like\", \"like\", \"like\", \"lil\", \"looks\", \"looks\", \"looks\", \"make\", \"make\", \"make\", \"make\", \"make\", \"makes\", \"makes\", \"makes\", \"makes\", \"malaysia\", \"mario\", \"marketing\", \"marketing\", \"marketing\", \"marketing\", \"may\", \"may\", \"may\", \"may\", \"may\", \"medicine\", \"mejhool_app\", \"metalearning\", \"metamask\", \"microsoft\", \"microsoft\", \"microsoft\", \"microsoft\", \"microsoft\", \"midjourney\", \"midjourney\", \"midjourney\", \"midjourney\", \"midjourney\", \"midjourneyv\", \"mins\", \"mins\", \"misinformation\", \"mitocw\", \"model\", \"model\", \"model\", \"model\", \"model\", \"models\", \"models\", \"models\", \"models\", \"months\", \"months\", \"months\", \"months\", \"moon\", \"moon\", \"moon\", \"morpheus\", \"ne\", \"need\", \"need\", \"need\", \"need\", \"need\", \"new\", \"new\", \"new\", \"new\", \"new\", \"news\", \"news\", \"news\", \"news\", \"news\", \"next\", \"next\", \"next\", \"next\", \"next\", \"nowadays\", \"number\", \"number\", \"old\", \"old\", \"old\", \"oldest\", \"oldest\", \"one\", \"one\", \"one\", \"one\", \"one\", \"openai\", \"openai\", \"openai\", \"openai\", \"openai\", \"openaichatgpt\", \"openaichatgpt\", \"operations\", \"organizations\", \"organizations\", \"originally\", \"pamelarutledge\", \"panelists\", \"people\", \"people\", \"people\", \"people\", \"people\", \"per\", \"per\", \"performance\", \"performance\", \"person\", \"person\", \"person\", \"personalized\", \"pets\", \"pie\", \"planned\", \"planning\", \"po\", \"posting\", \"potential\", \"potential\", \"potential\", \"potential\", \"potential\", \"powershell\", \"presen\", \"printer\", \"project\", \"project\", \"project\", \"project\", \"prometheus\", \"promp\", \"prompt\", \"prompt\", \"prompt\", \"prompt\", \"prompt\", \"prompts\", \"prompts\", \"prompts\", \"prompts\", \"quite\", \"quite\", \"raise\", \"readiness\", \"reading\", \"reading\", \"reading\", \"real\", \"real\", \"real\", \"real\", \"reasons\", \"reasons\", \"receives\", \"recent\", \"recent\", \"recent\", \"recent\", \"recommend\", \"research\", \"research\", \"research\", \"research\", \"resources\", \"ride\", \"risk\", \"risk\", \"risk\", \"risk\", \"roh\", \"say\", \"say\", \"say\", \"say\", \"say\", \"scp\", \"sea\", \"seem\", \"sentience\", \"seo\", \"seo\", \"seo\", \"seo\", \"site\", \"site\", \"sonu_monikadear\", \"source\", \"source\", \"source\", \"southpark\", \"southpark\", \"speech\", \"spend\", \"sport\", \"spotify\", \"st\", \"stage\", \"stage\", \"stage\", \"start\", \"start\", \"start\", \"start\", \"still\", \"still\", \"still\", \"still\", \"still\", \"stock\", \"stock\", \"stockstobuy\", \"stockstobuy\", \"stockstobuy\", \"stockstobuy\", \"strategy\", \"sunset\", \"sunset\", \"support\", \"support\", \"support\", \"support\", \"support\", \"take\", \"take\", \"take\", \"take\", \"take\", \"teaching\", \"teaching\", \"teaching\", \"tech\", \"tech\", \"tech\", \"tech\", \"techniques\", \"techniques\", \"technology\", \"technology\", \"technology\", \"technology\", \"technology\", \"think\", \"think\", \"think\", \"think\", \"think\", \"third\", \"third\", \"third\", \"thnx\", \"time\", \"time\", \"time\", \"time\", \"time\", \"times\", \"times\", \"times\", \"times\", \"times\", \"today\", \"today\", \"today\", \"today\", \"today\", \"tools\", \"tools\", \"tools\", \"tools\", \"tools\", \"towards\", \"towards\", \"towards\", \"tune\", \"tweet\", \"tweet\", \"tweet\", \"tweet\", \"typergpt\", \"ugc\", \"university\", \"us\", \"us\", \"us\", \"us\", \"us\", \"using\", \"using\", \"using\", \"using\", \"using\", \"utility\", \"via\", \"via\", \"via\", \"via\", \"via\", \"video\", \"video\", \"video\", \"video\", \"video\", \"vtuber\", \"vtuber\", \"walks\", \"week\", \"week\", \"week\", \"week\", \"week\", \"weight\", \"wiki\", \"windows\", \"windows\", \"work\", \"work\", \"work\", \"work\", \"work\", \"worked\", \"world\", \"world\", \"world\", \"world\", \"world\", \"worldunivandsch\", \"write\", \"write\", \"write\", \"write\", \"write\", \"years\", \"years\", \"years\", \"yes\", \"yes\"]}, \"R\": 30, \"lambda.step\": 0.01, \"plot.opts\": {\"xlab\": \"PC1\", \"ylab\": \"PC2\"}, \"topic.order\": [3, 1, 2, 4, 5]};\n",
       "\n",
       "function LDAvis_load_lib(url, callback){\n",
       "  var s = document.createElement('script');\n",
       "  s.src = url;\n",
       "  s.async = true;\n",
       "  s.onreadystatechange = s.onload = callback;\n",
       "  s.onerror = function(){console.warn(\"failed to load library \" + url);};\n",
       "  document.getElementsByTagName(\"head\")[0].appendChild(s);\n",
       "}\n",
       "\n",
       "if(typeof(LDAvis) !== \"undefined\"){\n",
       "   // already loaded: just create the visualization\n",
       "   !function(LDAvis){\n",
       "       new LDAvis(\"#\" + \"ldavis_el17561403165822520002568165150\", ldavis_el17561403165822520002568165150_data);\n",
       "   }(LDAvis);\n",
       "}else if(typeof define === \"function\" && define.amd){\n",
       "   // require.js is available: use it to load d3/LDAvis\n",
       "   require.config({paths: {d3: \"https://d3js.org/d3.v5\"}});\n",
       "   require([\"d3\"], function(d3){\n",
       "      window.d3 = d3;\n",
       "      LDAvis_load_lib(\"https://cdn.jsdelivr.net/gh/bmabey/pyLDAvis@3.2.2/pyLDAvis/js/ldavis.v3.0.0.js\", function(){\n",
       "        new LDAvis(\"#\" + \"ldavis_el17561403165822520002568165150\", ldavis_el17561403165822520002568165150_data);\n",
       "      });\n",
       "    });\n",
       "}else{\n",
       "    // require.js not available: dynamically load d3 & LDAvis\n",
       "    LDAvis_load_lib(\"https://d3js.org/d3.v5.js\", function(){\n",
       "         LDAvis_load_lib(\"https://cdn.jsdelivr.net/gh/bmabey/pyLDAvis@3.2.2/pyLDAvis/js/ldavis.v3.0.0.js\", function(){\n",
       "                 new LDAvis(\"#\" + \"ldavis_el17561403165822520002568165150\", ldavis_el17561403165822520002568165150_data);\n",
       "            })\n",
       "         });\n",
       "}\n",
       "</script>"
      ],
      "text/plain": [
       "PreparedData(topic_coordinates=              x         y  topics  cluster       Freq\n",
       "topic                                                \n",
       "2      0.019680 -0.041285       1        1  22.297867\n",
       "0      0.082456  0.069621       2        1  22.118415\n",
       "1      0.027419 -0.051496       3        1  21.176328\n",
       "3     -0.043611 -0.036040       4        1  19.249479\n",
       "4     -0.085944  0.059201       5        1  15.157912, topic_info=              Term        Freq       Total Category  logprob  loglift\n",
       "7               ai  476.000000  476.000000  Default  30.0000  30.0000\n",
       "1412      strategy   23.000000   23.000000  Default  29.0000  29.0000\n",
       "1452     readiness   21.000000   21.000000  Default  28.0000  28.0000\n",
       "1451  incorporated   21.000000   21.000000  Default  27.0000  27.0000\n",
       "1450    highlights   22.000000   22.000000  Default  26.0000  26.0000\n",
       "...            ...         ...         ...      ...      ...      ...\n",
       "68             amp    8.134950   79.329663   Topic5  -5.8779  -0.3908\n",
       "14            time    5.953019   31.643744   Topic5  -6.1901   0.2160\n",
       "15           tools    6.190898   38.195365   Topic5  -6.1510   0.0670\n",
       "369          write    5.525431   32.570716   Topic5  -6.2647   0.1126\n",
       "347           week    5.630724   42.109553   Topic5  -6.2458  -0.1254\n",
       "\n",
       "[395 rows x 6 columns], token_table=      Topic      Freq        Term\n",
       "term                             \n",
       "2558      4  0.783039     actions\n",
       "4636      4  0.652510  adelahafez\n",
       "7         1  0.251704          ai\n",
       "7         2  0.113267          ai\n",
       "7         3  0.159413          ai\n",
       "...     ...       ...         ...\n",
       "853       3  0.662355       years\n",
       "853       4  0.147190       years\n",
       "853       5  0.147190       years\n",
       "1783      3  0.226378         yes\n",
       "1783      5  0.679134         yes\n",
       "\n",
       "[736 rows x 3 columns], R=30, lambda_step=0.01, plot_opts={'xlab': 'PC1', 'ylab': 'PC2'}, topic_order=[3, 1, 2, 4, 5])"
      ]
     },
     "execution_count": 10,
     "metadata": {},
     "output_type": "execute_result"
    }
   ],
   "source": [
    "import os\n",
    "import pyLDAvis.gensim as gensimvis  #remind that pyLDAvis.gensim_models is newer one\n",
    "import pickle \n",
    "import pyLDAvis\n",
    "\n",
    "pyLDAvis.enable_notebook()\n",
    "\n",
    "LDAvis_data_filepath = os.path.join('./resources/'+str(num_topics))\n",
    "\n",
    "LDAvis_prepared = gensimvis.prepare(lda_model, corpus, id2word)\n",
    "with open(LDAvis_data_filepath, 'wb') as f:\n",
    "  pickle.dump(LDAvis_prepared, f)\n",
    "\n",
    "with open(LDAvis_data_filepath, 'rb') as f:\n",
    "  LDAvis_prepared = pickle.load(f)\n",
    "\n",
    "pyLDAvis.save_html(LDAvis_prepared, './resources/'+ str(num_topics) +'.html')\n",
    "\n",
    "LDAvis_prepared"
   ]
  },
  {
   "cell_type": "markdown",
   "id": "ae1e7c99",
   "metadata": {},
   "source": [
    "---"
   ]
  },
  {
   "cell_type": "markdown",
   "id": "3bbfd87f",
   "metadata": {},
   "source": [
    "# Sentiment Analysis\n",
    "# Task 1 What is the domiant sentiment towards large language models such as OpenAI's ChatGPT and others?"
   ]
  },
  {
   "cell_type": "markdown",
   "id": "34983d11",
   "metadata": {},
   "source": [
    "1. install the vaderSentiment.\n",
    "2. use the analyzer."
   ]
  },
  {
   "cell_type": "code",
   "execution_count": 45,
   "id": "31db0235",
   "metadata": {},
   "outputs": [
    {
     "name": "stdout",
     "output_type": "stream",
     "text": [
      "0:   three mile island has a clean-up cost that is higher than the construction cost of the plant itself #chatgpt\t{'neg': 0.0, 'neu': 1.0, 'pos': 0.0, 'compound': 0.0}\n",
      "1:   chatgpt prompts: your gateway to crafting unforgettable stories from mystery and suspense prompts to historical… \t{'neg': 0.0, 'neu': 1.0, 'pos': 0.0, 'compound': 0.0}\n",
      "2:   there’s been a lot of chat about chatgpt in the press; we had a ‘virtual’ sit down with #chatgpt to find out how it… \t{'neg': 0.0, 'neu': 1.0, 'pos': 0.0, 'compound': 0.0}\n",
      "3:   if you chatgpt isn't showing your recent history  don't panic  just logout to your account  again logged in and boo… \t{'neg': 0.0, 'neu': 0.875, 'pos': 0.125, 'compound': 0.4023}\n",
      "4:   @crypto_bitlord7 are you tired of rugs  @zyteai got you  #zyte is building autonomous tools to help manage risk on… \t{'neg': 0.211, 'neu': 0.675, 'pos': 0.114, 'compound': -0.3182}\n",
      "5:   hey @microsoft how about a @openai #chatgpt in a #googlehome or an #alexa - you can call it \"mai\"    you are welco… \t{'neg': 0.0, 'neu': 1.0, 'pos': 0.0, 'compound': 0.0}\n",
      "6:   chatgpt and other ai in education resources by @billcamp  @techsavvyteach #edtechsr… \t{'neg': 0.0, 'neu': 1.0, 'pos': 0.0, 'compound': 0.0}\n",
      "7:   @mrkempnz if you're interested  i've done some deep dive articles on ai and #chatgpt to clarify  i'm not an expert… \t{'neg': 0.0, 'neu': 0.876, 'pos': 0.124, 'compound': 0.4019}\n",
      "8:   \"say goodbye to mental blocks and hello to peak performance with brainbox chatgpt killer on warriorplus  this inno… \t{'neg': 0.279, 'neu': 0.721, 'pos': 0.0, 'compound': -0.7351}\n",
      "9:   opened chatgpt  it asked me to prove if i am human   abay salay  tooo khud ai robot hai or mjhy prove krny ko keh raha hai #chatgpt #ai\t{'neg': 0.0, 'neu': 1.0, 'pos': 0.0, 'compound': 0.0}\n",
      "\n",
      "The main sentiment towards ChatGPT is:  pos\n"
     ]
    }
   ],
   "source": [
    "from vaderSentiment.vaderSentiment import SentimentIntensityAnalyzer\n",
    "\n",
    "# Initialize the analyzer\n",
    "analyzer = SentimentIntensityAnalyzer()\n",
    "\n",
    "# Create a dictionary for the results.\n",
    "vsResults = {}\n",
    "\n",
    "# Count for the dictionary\n",
    "count = 0\n",
    "\n",
    "for tweet_text in unique_tweets:\n",
    "    vs = analyzer.polarity_scores(tweet_text)\n",
    "    vsResults[count] = [tweet_text,vs]\n",
    "    count += 1\n",
    "#     print(tweet_text + '\\t' + str(vs))\n",
    "\n",
    "# The volumn of the tweets, equals to the variable count\n",
    "volumn = count\n",
    "\n",
    "# Just print to observe the results\n",
    "for i in range(10):\n",
    "    print(str(i)+\":  \",str(vsResults[i][0])+\"\\t\"+str(vsResults[i][1]))\n",
    "    \n",
    "# Create the dictionary of final result for four sentiments\n",
    "sentimentResults = {'neg':0.0,'neu':0.0,'pos':0.0,'compound':0.0}\n",
    "# Calculate the general sentiment of the tweets about chatgpt\n",
    "for i in range(volumn):\n",
    "    sentimentResults['neg'] += float(vsResults[i][1]['neg'])\n",
    "    sentimentResults['neu'] += float(vsResults[i][1]['neu'])\n",
    "    sentimentResults['pos'] += float(vsResults[i][1]['pos'])\n",
    "    sentimentResults['compound'] += float(vsResults[i][1]['compound'])\n",
    "    \n",
    "print(\"\\nThe main sentiment towards ChatGPT is: \",max(sentimentResults))"
   ]
  },
  {
   "cell_type": "markdown",
   "id": "b2ab3147",
   "metadata": {},
   "source": [
    "---"
   ]
  },
  {
   "cell_type": "markdown",
   "id": "fe4b08ce",
   "metadata": {},
   "source": [
    "# Named Entity Recognition"
   ]
  },
  {
   "cell_type": "markdown",
   "id": "e0926c2a",
   "metadata": {},
   "source": [
    "1. install the spacy.\n",
    "2. load the nlp model.\n",
    "3. get the result of nlp model."
   ]
  },
  {
   "cell_type": "code",
   "execution_count": 4,
   "id": "a8c28ded",
   "metadata": {},
   "outputs": [
    {
     "ename": "ModuleNotFoundError",
     "evalue": "No module named 'en_core_web_trf'",
     "output_type": "error",
     "traceback": [
      "\u001b[0;31m---------------------------------------------------------------------------\u001b[0m",
      "\u001b[0;31mModuleNotFoundError\u001b[0m                       Traceback (most recent call last)",
      "\u001b[0;32m<ipython-input-4-70c06885a08e>\u001b[0m in \u001b[0;36m<module>\u001b[0;34m\u001b[0m\n\u001b[1;32m      1\u001b[0m \u001b[0;32mimport\u001b[0m \u001b[0mspacy\u001b[0m\u001b[0;34m\u001b[0m\u001b[0;34m\u001b[0m\u001b[0m\n\u001b[0;32m----> 2\u001b[0;31m \u001b[0;32mimport\u001b[0m \u001b[0men_core_web_trf\u001b[0m\u001b[0;34m\u001b[0m\u001b[0;34m\u001b[0m\u001b[0m\n\u001b[0m\u001b[1;32m      3\u001b[0m \u001b[0;34m\u001b[0m\u001b[0m\n\u001b[1;32m      4\u001b[0m \u001b[0mnlp\u001b[0m \u001b[0;34m=\u001b[0m \u001b[0mspacy\u001b[0m\u001b[0;34m.\u001b[0m\u001b[0mload\u001b[0m\u001b[0;34m(\u001b[0m\u001b[0;34m'en_core_web_trf'\u001b[0m\u001b[0;34m)\u001b[0m\u001b[0;34m\u001b[0m\u001b[0;34m\u001b[0m\u001b[0m\n",
      "\u001b[0;31mModuleNotFoundError\u001b[0m: No module named 'en_core_web_trf'"
     ]
    }
   ],
   "source": [
    "import spacy\n",
    "import en_core_web_trf\n",
    "\n",
    "nlp = spacy.load('en_core_web_trf')"
   ]
  },
  {
   "cell_type": "code",
   "execution_count": null,
   "id": "dfeae639",
   "metadata": {},
   "outputs": [],
   "source": [
    "for tweet_text in unique_tweets:\n",
    "  doc = nlp(tweet_text)\n",
    "  print(tweet_text)\n",
    "  for ne in doc.ents:\n",
    "    print('\\tNE found: ', ne.start_char, ne.end_char, ne.label_, tweet_text[ne.start_char:ne.end_char])"
   ]
  },
  {
   "cell_type": "markdown",
   "id": "68583a2f",
   "metadata": {},
   "source": [
    "---"
   ]
  },
  {
   "cell_type": "markdown",
   "id": "ebc172a1",
   "metadata": {},
   "source": [
    "# Named Entity Linking"
   ]
  },
  {
   "cell_type": "markdown",
   "id": "f4f54a77",
   "metadata": {},
   "source": [
    "This implementation is based on [spaCy Entity Linker](https://github.com/egerber/spacy-entity-linker)."
   ]
  },
  {
   "cell_type": "code",
   "execution_count": null,
   "id": "c3181061",
   "metadata": {},
   "outputs": [],
   "source": [
    "# !pip install spacy-entity-linker\n",
    "# !python -m spacy download en_core_web_md\n",
    "\n",
    "import en_core_web_md\n",
    "from spacy.language import Language"
   ]
  },
  {
   "cell_type": "code",
   "execution_count": null,
   "id": "07806fc8",
   "metadata": {},
   "outputs": [],
   "source": [
    "from spacy_entity_linker import EntityLinker\n",
    "\n",
    "# !python -m spacy_entity_linker \"download_knowledge_base\"\n",
    "\n",
    "nlp = spacy.load(\"en_core_web_md\")\n",
    "\n",
    "#add to pipeline\n",
    "nlp.add_pipe('entityLinker', last=True)"
   ]
  },
  {
   "cell_type": "code",
   "execution_count": null,
   "id": "2dbbe608",
   "metadata": {},
   "outputs": [],
   "source": [
    "for tweet_text in unique_tweets:\n",
    "  try:\n",
    "    doc = nlp(tweet_text)\n",
    "    print(tweet_text)\n",
    "    all_linked_entities = doc._.linkedEntities\n",
    "    for linked_entity in all_linked_entities:\n",
    "      print(linked_entity.get_url() + ' ' + linked_entity.pretty_string(True))\n",
    "  except:\n",
    "    pass\n"
   ]
  },
  {
   "cell_type": "markdown",
   "id": "70d9a5dc",
   "metadata": {},
   "source": [
    "---"
   ]
  },
  {
   "cell_type": "markdown",
   "id": "9cb96e8e",
   "metadata": {},
   "source": [
    "# Task 2 What are the pros and cons of these large language models?"
   ]
  },
  {
   "cell_type": "markdown",
   "id": "e24af17b",
   "metadata": {},
   "source": [
    "1. Use some grammatical formats for searching the pros and cons\n",
    "2. Generate the pros and cons by searching with the use of some certain grammatical formats\n",
    "3. Data clean for the outputs of pros and cons"
   ]
  },
  {
   "cell_type": "markdown",
   "id": "61ab5911",
   "metadata": {},
   "source": [
    "### 1. Use some grammatical formats for searching the pros and cons"
   ]
  },
  {
   "cell_type": "code",
   "execution_count": null,
   "id": "46f40865",
   "metadata": {},
   "outputs": [],
   "source": [
    "# some shortcomings that should be improved: ignore the adv words after verbs\n",
    "\n",
    "def find_prosandcons(results, pog_sentence):\n",
    "\n",
    "    doc = nlp(pog_sentence)\n",
    "    for token in doc:\n",
    "        if token.pos_ == 'VERB':\n",
    "            dependents = token.children\n",
    "            for d in dependents:\n",
    "\n",
    "                token_text = token.text\n",
    "\n",
    "                if d.dep_ == 'prep':\n",
    "                    token_text = token_text + ' ' + d.text\n",
    "                    for pobjs in d.children:\n",
    "                        if pobjs.dep_ == 'pobj':\n",
    "                            token_text = token_text + ' ' + find_d_p_obj(pobjs)\n",
    "                    \n",
    "                    if len(token_text.split(' ')) >= 3:\n",
    "                        results.append(token_text)\n",
    "\n",
    "                elif d.dep_ == 'agent':\n",
    "                    token_text = token_text + ' ' + d.text\n",
    "                    for pobjs in d.children:\n",
    "                        if pobjs.dep_ == 'pobj':\n",
    "                            token_text = token_text + ' ' + find_d_p_obj(pobjs)\n",
    "                    if len(token_text.split(' ')) >= 3:\n",
    "                        results.append(token_text)\n",
    "\n",
    "                elif d.dep_ == 'dobj':\n",
    "                    token_text = token_text + ' ' + find_d_p_obj(d)\n",
    "                    for preps in d.children:\n",
    "                        if preps.dep_ == 'prep':\n",
    "                            token_text = token_text + ' ' + preps.text\n",
    "                            for pobjs in preps.children:\n",
    "                                if pobjs.dep_ == 'pobj':\n",
    "                                    token_text = token_text + ' ' + find_d_p_obj(pobjs)\n",
    "                    if len(token_text.split(' ')) >= 3:\n",
    "                        results.append(token_text)\n",
    "                \n",
    "                elif d.dep_ == 'acomp':\n",
    "                    token_text = token_text + ' ' + d.text\n",
    "                    for preps in d.children:\n",
    "                        if preps.dep_ == 'prep':\n",
    "                            token_text = token_text + ' ' + preps.text\n",
    "                            for pobjs in preps.children:\n",
    "                                if pobjs.dep_ == 'pobj':\n",
    "                                    token_text = token_text + ' ' + find_d_p_obj(pobjs)\n",
    "                    if len(token_text.split(' ')) >= 3:\n",
    "                        results.append(token_text)\n",
    "        \n",
    "        if token.pos_ == 'ADJ':\n",
    "            dependents = token.children\n",
    "            for d in dependents:\n",
    "\n",
    "                token_text = token.text\n",
    "\n",
    "                if d.dep_ == 'prep':\n",
    "                    token_text = token_text + ' ' + d.text\n",
    "                    for pcomps in d.children:\n",
    "                        if pcomps.dep_ == 'pcomp':\n",
    "                            token_text = token_text + ' ' + pcomps.text\n",
    "                            for advmods in pcomps.children:\n",
    "                                if advmods.dep_ == 'advmod':\n",
    "                                    token_text = token_text + ' ' + advmods.text\n",
    "                    if len(token_text.split(' ')) >= 3:\n",
    "                        results.append(token_text)\n",
    "    \n",
    "    return results\n",
    "    \n",
    "    # print(results)\n",
    "\n",
    "    # for token in doc:\n",
    "    #     print(token.text + '\\t' + token.lemma_ + '\\t' + token.pos_ + '\\t' + token.tag_ + '\\t' + token.dep_ + '\\t' + str([child.text + ':' + child.dep_ for child in token.children]))\n",
    "\n",
    "def find_d_p_obj(pobjs):\n",
    "    amod_text = ''\n",
    "    for d in pobjs.children:\n",
    "\n",
    "        if d.dep_ == 'det':\n",
    "            amod_text = amod_text + d.text + ' '\n",
    "\n",
    "        elif d.dep_ == 'amod':\n",
    "            amod_text = amod_text + d.text + ' '\n",
    "    \n",
    "    token_text = amod_text + pobjs.text\n",
    "\n",
    "    return token_text\n",
    "\n",
    "# find_prosandcons([], unique_tweets[173])"
   ]
  },
  {
   "cell_type": "markdown",
   "id": "0f0ca4ac",
   "metadata": {},
   "source": [
    "### 2. Generate the pros and cons by searching with the use of some certain grammatical formats"
   ]
  },
  {
   "cell_type": "code",
   "execution_count": null,
   "id": "1d020581",
   "metadata": {},
   "outputs": [],
   "source": [
    "pros = []\n",
    "cons = []\n",
    "\n",
    "for index, tweet_text in enumerate(unique_tweets):\n",
    "    vs = analyzer.polarity_scores(tweet_text)\n",
    "    neg, neu, pos, compound = vs['neg'], vs['neu'], vs['pos'], vs['compound']\n",
    "    if compound > 0.1: # and pos >= neu and pos >= compound\n",
    "        # print(index, tweet_text)\n",
    "        pros = find_prosandcons(pros, tweet_text)\n",
    "    if compound < -0.4: # \n",
    "        cons = find_prosandcons(cons, tweet_text)\n",
    "\n",
    "# print(pros)\n",
    "# print(cons)"
   ]
  },
  {
   "cell_type": "markdown",
   "id": "ced288ea",
   "metadata": {},
   "source": [
    "### 3. Data clean for the outputs of pros and cons"
   ]
  },
  {
   "cell_type": "code",
   "execution_count": null,
   "id": "21bb96c5",
   "metadata": {},
   "outputs": [],
   "source": [
    "\n",
    "# 1: remove the pharses which ends up with 'a', 'an', 'it', ...\n",
    "# 2: remove the pharses having fewer than 3 words, which has been done in the function find_prosandcons()\n",
    "\n",
    "ends_up_words = ['%', '+', 'in', 'it', 'vc', '#', 'a', 'an', 'the', 'lil', 're', 'se', 'lm', 'ep', 'ch', 'e(|x|', 'f(x', '∞', 'sta', '=']\n",
    "\n",
    "for i in range(10): # ends up with numbers\n",
    "    ends_up_words.append(str(i))\n",
    "\n",
    "upperletters = [chr(i) for i in range(65, 91)] # ends up with upperletters\n",
    "lowerletters = [chr(i) for i in range(97, 123)] # ends up with lowerletters\n",
    "\n",
    "for i in range(26):\n",
    "    ends_up_words.append(upperletters[i])\n",
    "    ends_up_words.append(lowerletters[i])\n",
    "\n",
    "print(ends_up_words)\n",
    "\n",
    "pros_results = []\n",
    "cons_results = []\n",
    "\n",
    "for pharse in pros:\n",
    "    \n",
    "    if pharse.split(' ')[-1] not in ends_up_words:\n",
    "        pros_results.append(pharse)\n",
    "\n",
    "for pharse in cons:\n",
    "    \n",
    "    if pharse.split(' ')[-1] not in ends_up_words:\n",
    "        cons_results.append(pharse)\n",
    "\n",
    "# for i in pros_results:\n",
    "#     print(i)\n",
    "\n",
    "# for i in cons_results:\n",
    "#     print(i)\n"
   ]
  },
  {
   "cell_type": "markdown",
   "id": "ad386376",
   "metadata": {},
   "source": [
    "---"
   ]
  },
  {
   "cell_type": "markdown",
   "id": "7c5a83bd",
   "metadata": {},
   "source": [
    "# Task 3 What fields will chatgpt be most useful in the future?"
   ]
  },
  {
   "cell_type": "markdown",
   "id": "749f6fa9",
   "metadata": {},
   "source": [
    "1. give a list of words which are relevant to the ability of doing something in the future\n",
    "2. seize the postive sentiment sentences and lanuch the tokenization to them\n",
    "3. use the nlp processor to find the initial form of future words and every positive sentence\n",
    "4. find the Nouns which appears most frequently in these sentences containing future words"
   ]
  },
  {
   "cell_type": "markdown",
   "id": "9e052305",
   "metadata": {},
   "source": [
    "### 1. give a list of words which are relevant to the ability of doing something in the future"
   ]
  },
  {
   "cell_type": "code",
   "execution_count": null,
   "id": "08c458d9",
   "metadata": {},
   "outputs": [],
   "source": [
    "future_words_origin = 'future prosperous prosperity can could better performance useful available futural improvement enhancement scale development evolve evolution improve predict will would beneficial impact effect influence intelligent intellectualisation'\n",
    "future_words = []\n",
    "\n",
    "\n",
    "for token in nlp(future_words_origin):\n",
    "    # print(token.text + '\\t' + token.lemma_ + '\\t' + token.pos_ + '\\t' + token.tag_ + '\\t' + token.dep_ + '\\t' + str([child.text + ':' + child.dep_ for child in token.children]))\n",
    "    future_words.append(token.lemma_)\n",
    "\n",
    "print(future_words)"
   ]
  },
  {
   "cell_type": "markdown",
   "id": "0c23289a",
   "metadata": {},
   "source": [
    " ### 2. seize the postive sentiment sentences and lanuch the tokenization to them\n",
    " ### 3. use the nlp processor to find the initial form of future words and every positive sentence\n",
    " ### 4. find the Nouns which appears most frequently in these sentences containing future words"
   ]
  },
  {
   "cell_type": "code",
   "execution_count": null,
   "id": "46cf73ed",
   "metadata": {},
   "outputs": [],
   "source": [
    "future_noun_words = {}\n",
    "\n",
    "def frequences(dict, word):\n",
    "    if word in dict.keys():\n",
    "        dict[word] += 1\n",
    "    else:\n",
    "        dict[word] = 1\n",
    "\n",
    "# chatgpt is defintely in the final results, and defintely should be removed\n",
    "def useful_words(word):\n",
    "    if word not in ends_up_words and word not in stop_words and word[0] != '@' and word not in future_words and word != 'chatgpt':\n",
    "        return True\n",
    "    else:\n",
    "        return False\n",
    "\n",
    "for index, tweet_text in enumerate(unique_tweets):\n",
    "    vs = analyzer.polarity_scores(tweet_text)\n",
    "    neg, neu, pos, compound = vs['neg'], vs['neu'], vs['pos'], vs['compound']\n",
    "    if compound > 0.1: # and pos >= neu and pos >= compound\n",
    "        # print(index, tweet_text)\n",
    "        tweet_text_token = nlp(tweet_text)\n",
    "        for token in tweet_text_token:\n",
    "            if token.lemma_ in future_words:\n",
    "                for nouns in tweet_text_token:\n",
    "                    if nouns.pos_ == 'NOUN' and useful_words(nouns.lemma_):\n",
    "                        frequences(future_noun_words, nouns.lemma_)\n",
    "                break\n",
    "\n",
    "future_noun_words = sorted(future_noun_words.items(), key=lambda item:item[1], reverse = True)\n",
    "\n",
    "print(future_noun_words)\n"
   ]
  },
  {
   "cell_type": "markdown",
   "id": "f4d54ffa",
   "metadata": {},
   "source": [
    "---"
   ]
  }
 ],
 "metadata": {
  "kernelspec": {
   "display_name": "Python 3",
   "language": "python",
   "name": "python3"
  },
  "language_info": {
   "codemirror_mode": {
    "name": "ipython",
    "version": 3
   },
   "file_extension": ".py",
   "mimetype": "text/x-python",
   "name": "python",
   "nbconvert_exporter": "python",
   "pygments_lexer": "ipython3",
   "version": "3.6.12"
  }
 },
 "nbformat": 4,
 "nbformat_minor": 5
}
